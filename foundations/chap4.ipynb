{
 "cells": [
  {
   "cell_type": "code",
   "execution_count": 1,
   "id": "dbafa77a-cb7a-4ab7-b5fc-86cd1c4e575c",
   "metadata": {},
   "outputs": [],
   "source": [
    "from fastai.vision.all import *\n",
    "from fastbook import *\n",
    "matplotlib.rc('image', cmap='Greys')"
   ]
  },
  {
   "cell_type": "code",
   "execution_count": 2,
   "id": "266f82bc-64ec-4abc-9180-1968b1b84f49",
   "metadata": {},
   "outputs": [],
   "source": [
    "path = untar_data(URLs.MNIST_SAMPLE)"
   ]
  },
  {
   "cell_type": "code",
   "execution_count": 3,
   "id": "da5ad4b5-f70a-4276-97e6-e67f33d7e3df",
   "metadata": {},
   "outputs": [
    {
     "data": {
      "text/plain": [
       "(#3) [Path('C:/Users/antho/.fastai/data/mnist_sample/labels.csv'),Path('C:/Users/antho/.fastai/data/mnist_sample/train'),Path('C:/Users/antho/.fastai/data/mnist_sample/valid')]"
      ]
     },
     "execution_count": 3,
     "metadata": {},
     "output_type": "execute_result"
    }
   ],
   "source": [
    "path.ls()"
   ]
  },
  {
   "cell_type": "code",
   "execution_count": 4,
   "id": "818d3ddf-032f-4966-b2a3-52231624b7c9",
   "metadata": {},
   "outputs": [
    {
     "data": {
      "text/plain": [
       "(#2) [Path('C:/Users/antho/.fastai/data/mnist_sample/train/3'),Path('C:/Users/antho/.fastai/data/mnist_sample/train/7')]"
      ]
     },
     "execution_count": 4,
     "metadata": {},
     "output_type": "execute_result"
    }
   ],
   "source": [
    "(path/'train').ls()"
   ]
  },
  {
   "cell_type": "code",
   "execution_count": 5,
   "id": "d82a0156-90d2-44a5-ba9c-c6350ff0d38c",
   "metadata": {},
   "outputs": [],
   "source": [
    "threes = (path/'train'/'3').ls().sorted()\n",
    "sevens = (path/'train'/'7').ls().sorted()"
   ]
  },
  {
   "cell_type": "code",
   "execution_count": 6,
   "id": "febcb166-bdb4-46e0-b341-6681cef7d9a8",
   "metadata": {},
   "outputs": [
    {
     "data": {
      "text/plain": [
       "(#6131) [Path('C:/Users/antho/.fastai/data/mnist_sample/train/3/10.png'),Path('C:/Users/antho/.fastai/data/mnist_sample/train/3/10000.png'),Path('C:/Users/antho/.fastai/data/mnist_sample/train/3/10011.png'),Path('C:/Users/antho/.fastai/data/mnist_sample/train/3/10031.png'),Path('C:/Users/antho/.fastai/data/mnist_sample/train/3/10034.png'),Path('C:/Users/antho/.fastai/data/mnist_sample/train/3/10042.png'),Path('C:/Users/antho/.fastai/data/mnist_sample/train/3/10052.png'),Path('C:/Users/antho/.fastai/data/mnist_sample/train/3/1007.png'),Path('C:/Users/antho/.fastai/data/mnist_sample/train/3/10074.png'),Path('C:/Users/antho/.fastai/data/mnist_sample/train/3/10091.png')...]"
      ]
     },
     "execution_count": 6,
     "metadata": {},
     "output_type": "execute_result"
    }
   ],
   "source": [
    "threes"
   ]
  },
  {
   "cell_type": "code",
   "execution_count": 7,
   "id": "9db16cc6-50fb-41f7-9b41-84d45948301f",
   "metadata": {},
   "outputs": [
    {
     "data": {
      "image/jpeg": "[encoded data removed]",
      "image/png": "[encoded data removed]",
      "text/plain": [
       "<PIL.PngImagePlugin.PngImageFile image mode=L size=28x28>"
      ]
     },
     "execution_count": 7,
     "metadata": {},
     "output_type": "execute_result"
    }
   ],
   "source": [
    "im3_path = threes[1]\n",
    "im3 = Image.open(im3_path)\n",
    "im3"
   ]
  },
  {
   "cell_type": "code",
   "execution_count": 8,
   "id": "f6edaaa1-5819-406b-a4a2-ef53936c7bb0",
   "metadata": {},
   "outputs": [
    {
     "data": {
      "text/plain": [
       "array([[  0,   0,   0,   0,   0,   0],\n",
       "       [  0,   0,   0,   0,   0,  29],\n",
       "       [  0,   0,   0,  48, 166, 224],\n",
       "       [  0,  93, 244, 249, 253, 187],\n",
       "       [  0, 107, 253, 253, 230,  48],\n",
       "       [  0,   3,  20,  20,  15,   0]], dtype=uint8)"
      ]
     },
     "execution_count": 8,
     "metadata": {},
     "output_type": "execute_result"
    }
   ],
   "source": [
    "array(im3)[4:10,4:10]"
   ]
  },
  {
   "cell_type": "code",
   "execution_count": 9,
   "id": "a5f2d26e-ab11-40d9-976d-ad4427514724",
   "metadata": {},
   "outputs": [
    {
     "data": {
      "text/plain": [
       "tensor([[  0,   0,   0,   0,   0,   0],\n",
       "        [  0,   0,   0,   0,   0,  29],\n",
       "        [  0,   0,   0,  48, 166, 224],\n",
       "        [  0,  93, 244, 249, 253, 187],\n",
       "        [  0, 107, 253, 253, 230,  48],\n",
       "        [  0,   3,  20,  20,  15,   0]], dtype=torch.uint8)"
      ]
     },
     "execution_count": 9,
     "metadata": {},
     "output_type": "execute_result"
    }
   ],
   "source": [
    "tensor(im3)[4:10,4:10]"
   ]
  },
  {
   "cell_type": "code",
   "execution_count": 10,
   "id": "f18ac7d9-39ab-4160-9a8f-29a166f241a6",
   "metadata": {},
   "outputs": [
    {
     "data": {
      "text/html": [
       "<style type=\"text/css\">\n",
       "#T_a82cf_row0_col0, #T_a82cf_row0_col1, #T_a82cf_row0_col2, #T_a82cf_row0_col3, #T_a82cf_row0_col14, #T_a82cf_row1_col0, #T_a82cf_row1_col1, #T_a82cf_row1_col14, #T_a82cf_row2_col14, #T_a82cf_row3_col5, #T_a82cf_row3_col6, #T_a82cf_row3_col7, #T_a82cf_row3_col8, #T_a82cf_row3_col9, #T_a82cf_row3_col14, #T_a82cf_row4_col4, #T_a82cf_row4_col5, #T_a82cf_row4_col6, #T_a82cf_row4_col7, #T_a82cf_row4_col8, #T_a82cf_row4_col14, #T_a82cf_row5_col0, #T_a82cf_row5_col1, #T_a82cf_row5_col2, #T_a82cf_row5_col3, #T_a82cf_row5_col4, #T_a82cf_row5_col5, #T_a82cf_row5_col6, #T_a82cf_row5_col7, #T_a82cf_row5_col8, #T_a82cf_row5_col13, #T_a82cf_row5_col14, #T_a82cf_row6_col0, #T_a82cf_row6_col1, #T_a82cf_row6_col2, #T_a82cf_row6_col3, #T_a82cf_row6_col4, #T_a82cf_row6_col5, #T_a82cf_row6_col12, #T_a82cf_row6_col13, #T_a82cf_row6_col14, #T_a82cf_row7_col0, #T_a82cf_row7_col1, #T_a82cf_row7_col2, #T_a82cf_row7_col3, #T_a82cf_row7_col12, #T_a82cf_row7_col13, #T_a82cf_row7_col14, #T_a82cf_row8_col0, #T_a82cf_row8_col1, #T_a82cf_row8_col2, #T_a82cf_row8_col3, #T_a82cf_row9_col0, #T_a82cf_row9_col1, #T_a82cf_row9_col2, #T_a82cf_row9_col3, #T_a82cf_row9_col4, #T_a82cf_row9_col5, #T_a82cf_row10_col0, #T_a82cf_row10_col1, #T_a82cf_row10_col2, #T_a82cf_row10_col3, #T_a82cf_row10_col4, #T_a82cf_row10_col5, #T_a82cf_row10_col6, #T_a82cf_row10_col7, #T_a82cf_row10_col8, #T_a82cf_row11_col0, #T_a82cf_row11_col1, #T_a82cf_row11_col2, #T_a82cf_row11_col3, #T_a82cf_row11_col4, #T_a82cf_row11_col5, #T_a82cf_row11_col6, #T_a82cf_row11_col7, #T_a82cf_row11_col8, #T_a82cf_row11_col9, #T_a82cf_row11_col10, #T_a82cf_row11_col11, #T_a82cf_row12_col0, #T_a82cf_row12_col1, #T_a82cf_row12_col2, #T_a82cf_row12_col3, #T_a82cf_row12_col4, #T_a82cf_row12_col5, #T_a82cf_row12_col6, #T_a82cf_row12_col7, #T_a82cf_row12_col8, #T_a82cf_row12_col9, #T_a82cf_row12_col10, #T_a82cf_row12_col11, #T_a82cf_row13_col0, #T_a82cf_row13_col1, #T_a82cf_row13_col2, #T_a82cf_row13_col3, #T_a82cf_row13_col4, #T_a82cf_row13_col5, #T_a82cf_row13_col6, #T_a82cf_row13_col7, #T_a82cf_row13_col8, #T_a82cf_row13_col9, #T_a82cf_row13_col10, #T_a82cf_row14_col0, #T_a82cf_row14_col1, #T_a82cf_row14_col2, #T_a82cf_row14_col3, #T_a82cf_row14_col4, #T_a82cf_row14_col5, #T_a82cf_row14_col6, #T_a82cf_row14_col7, #T_a82cf_row14_col8, #T_a82cf_row14_col9, #T_a82cf_row15_col0, #T_a82cf_row15_col1, #T_a82cf_row15_col2, #T_a82cf_row15_col3, #T_a82cf_row15_col4, #T_a82cf_row15_col5, #T_a82cf_row15_col6, #T_a82cf_row15_col7, #T_a82cf_row15_col8, #T_a82cf_row16_col0, #T_a82cf_row16_col1, #T_a82cf_row16_col2, #T_a82cf_row16_col3, #T_a82cf_row16_col4, #T_a82cf_row16_col5, #T_a82cf_row16_col6, #T_a82cf_row16_col14, #T_a82cf_row17_col0, #T_a82cf_row17_col13, #T_a82cf_row17_col14, #T_a82cf_row18_col0, #T_a82cf_row18_col11, #T_a82cf_row18_col12, #T_a82cf_row18_col13, #T_a82cf_row18_col14, #T_a82cf_row19_col0, #T_a82cf_row19_col9, #T_a82cf_row19_col10, #T_a82cf_row19_col11, #T_a82cf_row19_col12, #T_a82cf_row19_col13, #T_a82cf_row19_col14 {\n",
       "  font-size: 6pt;\n",
       "  background-color: #ffffff;\n",
       "  color: #000000;\n",
       "}\n",
       "#T_a82cf_row0_col4, #T_a82cf_row7_col11 {\n",
       "  font-size: 6pt;\n",
       "  background-color: #f1f1f1;\n",
       "  color: #000000;\n",
       "}\n",
       "#T_a82cf_row0_col5, #T_a82cf_row0_col12 {\n",
       "  font-size: 6pt;\n",
       "  background-color: #7c7c7c;\n",
       "  color: #f1f1f1;\n",
       "}\n",
       "#T_a82cf_row0_col6 {\n",
       "  font-size: 6pt;\n",
       "  background-color: #4a4a4a;\n",
       "  color: #f1f1f1;\n",
       "}\n",
       "#T_a82cf_row0_col7, #T_a82cf_row0_col8, #T_a82cf_row0_col9, #T_a82cf_row1_col5, #T_a82cf_row1_col6, #T_a82cf_row1_col10, #T_a82cf_row1_col11, #T_a82cf_row1_col12, #T_a82cf_row2_col3, #T_a82cf_row2_col11, #T_a82cf_row2_col12, #T_a82cf_row3_col0, #T_a82cf_row3_col1, #T_a82cf_row3_col2, #T_a82cf_row3_col11, #T_a82cf_row3_col12, #T_a82cf_row4_col11, #T_a82cf_row5_col10, #T_a82cf_row8_col10, #T_a82cf_row9_col10, #T_a82cf_row9_col11, #T_a82cf_row9_col12, #T_a82cf_row9_col13, #T_a82cf_row10_col12, #T_a82cf_row10_col13, #T_a82cf_row10_col14, #T_a82cf_row11_col13, #T_a82cf_row11_col14, #T_a82cf_row12_col13, #T_a82cf_row12_col14, #T_a82cf_row13_col13, #T_a82cf_row13_col14, #T_a82cf_row14_col12, #T_a82cf_row14_col13, #T_a82cf_row15_col11, #T_a82cf_row15_col12, #T_a82cf_row16_col10, #T_a82cf_row16_col11, #T_a82cf_row18_col2, #T_a82cf_row18_col3, #T_a82cf_row18_col4, #T_a82cf_row18_col5, #T_a82cf_row18_col6, #T_a82cf_row19_col2, #T_a82cf_row19_col3, #T_a82cf_row19_col4, #T_a82cf_row19_col5, #T_a82cf_row19_col6 {\n",
       "  font-size: 6pt;\n",
       "  background-color: #000000;\n",
       "  color: #f1f1f1;\n",
       "}\n",
       "#T_a82cf_row0_col10 {\n",
       "  font-size: 6pt;\n",
       "  background-color: #606060;\n",
       "  color: #f1f1f1;\n",
       "}\n",
       "#T_a82cf_row0_col11 {\n",
       "  font-size: 6pt;\n",
       "  background-color: #4d4d4d;\n",
       "  color: #f1f1f1;\n",
       "}\n",
       "#T_a82cf_row0_col13 {\n",
       "  font-size: 6pt;\n",
       "  background-color: #bbbbbb;\n",
       "  color: #000000;\n",
       "}\n",
       "#T_a82cf_row1_col2, #T_a82cf_row3_col4 {\n",
       "  font-size: 6pt;\n",
       "  background-color: #e4e4e4;\n",
       "  color: #000000;\n",
       "}\n",
       "#T_a82cf_row1_col3, #T_a82cf_row7_col5 {\n",
       "  font-size: 6pt;\n",
       "  background-color: #6b6b6b;\n",
       "  color: #f1f1f1;\n",
       "}\n",
       "#T_a82cf_row1_col4, #T_a82cf_row4_col10 {\n",
       "  font-size: 6pt;\n",
       "  background-color: #222222;\n",
       "  color: #f1f1f1;\n",
       "}\n",
       "#T_a82cf_row1_col7, #T_a82cf_row1_col13, #T_a82cf_row2_col13, #T_a82cf_row16_col12 {\n",
       "  font-size: 6pt;\n",
       "  background-color: #171717;\n",
       "  color: #f1f1f1;\n",
       "}\n",
       "#T_a82cf_row1_col8, #T_a82cf_row2_col10 {\n",
       "  font-size: 6pt;\n",
       "  background-color: #4b4b4b;\n",
       "  color: #f1f1f1;\n",
       "}\n",
       "#T_a82cf_row1_col9, #T_a82cf_row6_col9, #T_a82cf_row7_col7, #T_a82cf_row7_col9, #T_a82cf_row8_col7, #T_a82cf_row8_col9, #T_a82cf_row17_col9, #T_a82cf_row18_col7 {\n",
       "  font-size: 6pt;\n",
       "  background-color: #010101;\n",
       "  color: #f1f1f1;\n",
       "}\n",
       "#T_a82cf_row2_col0 {\n",
       "  font-size: 6pt;\n",
       "  background-color: #272727;\n",
       "  color: #f1f1f1;\n",
       "}\n",
       "#T_a82cf_row2_col1 {\n",
       "  font-size: 6pt;\n",
       "  background-color: #0a0a0a;\n",
       "  color: #f1f1f1;\n",
       "}\n",
       "#T_a82cf_row2_col2, #T_a82cf_row13_col12 {\n",
       "  font-size: 6pt;\n",
       "  background-color: #050505;\n",
       "  color: #f1f1f1;\n",
       "}\n",
       "#T_a82cf_row2_col4, #T_a82cf_row7_col10, #T_a82cf_row9_col14, #T_a82cf_row18_col1 {\n",
       "  font-size: 6pt;\n",
       "  background-color: #545454;\n",
       "  color: #f1f1f1;\n",
       "}\n",
       "#T_a82cf_row2_col5 {\n",
       "  font-size: 6pt;\n",
       "  background-color: #e6e6e6;\n",
       "  color: #000000;\n",
       "}\n",
       "#T_a82cf_row2_col6, #T_a82cf_row2_col9, #T_a82cf_row7_col4 {\n",
       "  font-size: 6pt;\n",
       "  background-color: #fafafa;\n",
       "  color: #000000;\n",
       "}\n",
       "#T_a82cf_row2_col7, #T_a82cf_row10_col9, #T_a82cf_row15_col14 {\n",
       "  font-size: 6pt;\n",
       "  background-color: #fbfbfb;\n",
       "  color: #000000;\n",
       "}\n",
       "#T_a82cf_row2_col8 {\n",
       "  font-size: 6pt;\n",
       "  background-color: #fdfdfd;\n",
       "  color: #000000;\n",
       "}\n",
       "#T_a82cf_row3_col3 {\n",
       "  font-size: 6pt;\n",
       "  background-color: #1b1b1b;\n",
       "  color: #f1f1f1;\n",
       "}\n",
       "#T_a82cf_row3_col10 {\n",
       "  font-size: 6pt;\n",
       "  background-color: #4e4e4e;\n",
       "  color: #f1f1f1;\n",
       "}\n",
       "#T_a82cf_row3_col13 {\n",
       "  font-size: 6pt;\n",
       "  background-color: #767676;\n",
       "  color: #f1f1f1;\n",
       "}\n",
       "#T_a82cf_row4_col0 {\n",
       "  font-size: 6pt;\n",
       "  background-color: #fcfcfc;\n",
       "  color: #000000;\n",
       "}\n",
       "#T_a82cf_row4_col1, #T_a82cf_row4_col2 {\n",
       "  font-size: 6pt;\n",
       "  background-color: #f6f6f6;\n",
       "  color: #000000;\n",
       "}\n",
       "#T_a82cf_row4_col3, #T_a82cf_row6_col6 {\n",
       "  font-size: 6pt;\n",
       "  background-color: #f8f8f8;\n",
       "  color: #000000;\n",
       "}\n",
       "#T_a82cf_row4_col9, #T_a82cf_row9_col6 {\n",
       "  font-size: 6pt;\n",
       "  background-color: #e8e8e8;\n",
       "  color: #000000;\n",
       "}\n",
       "#T_a82cf_row4_col12, #T_a82cf_row5_col11 {\n",
       "  font-size: 6pt;\n",
       "  background-color: #090909;\n",
       "  color: #f1f1f1;\n",
       "}\n",
       "#T_a82cf_row4_col13 {\n",
       "  font-size: 6pt;\n",
       "  background-color: #d0d0d0;\n",
       "  color: #000000;\n",
       "}\n",
       "#T_a82cf_row5_col9, #T_a82cf_row6_col10, #T_a82cf_row8_col5 {\n",
       "  font-size: 6pt;\n",
       "  background-color: #060606;\n",
       "  color: #f1f1f1;\n",
       "}\n",
       "#T_a82cf_row5_col12 {\n",
       "  font-size: 6pt;\n",
       "  background-color: #979797;\n",
       "  color: #f1f1f1;\n",
       "}\n",
       "#T_a82cf_row6_col7 {\n",
       "  font-size: 6pt;\n",
       "  background-color: #b6b6b6;\n",
       "  color: #000000;\n",
       "}\n",
       "#T_a82cf_row6_col8 {\n",
       "  font-size: 6pt;\n",
       "  background-color: #252525;\n",
       "  color: #f1f1f1;\n",
       "}\n",
       "#T_a82cf_row6_col11 {\n",
       "  font-size: 6pt;\n",
       "  background-color: #999999;\n",
       "  color: #f1f1f1;\n",
       "}\n",
       "#T_a82cf_row7_col6, #T_a82cf_row17_col7 {\n",
       "  font-size: 6pt;\n",
       "  background-color: #101010;\n",
       "  color: #f1f1f1;\n",
       "}\n",
       "#T_a82cf_row7_col8, #T_a82cf_row8_col8, #T_a82cf_row16_col9, #T_a82cf_row17_col8, #T_a82cf_row18_col8 {\n",
       "  font-size: 6pt;\n",
       "  background-color: #020202;\n",
       "  color: #f1f1f1;\n",
       "}\n",
       "#T_a82cf_row8_col4 {\n",
       "  font-size: 6pt;\n",
       "  background-color: #f7f7f7;\n",
       "  color: #000000;\n",
       "}\n",
       "#T_a82cf_row8_col6, #T_a82cf_row17_col10 {\n",
       "  font-size: 6pt;\n",
       "  background-color: #030303;\n",
       "  color: #f1f1f1;\n",
       "}\n",
       "#T_a82cf_row8_col11 {\n",
       "  font-size: 6pt;\n",
       "  background-color: #181818;\n",
       "  color: #f1f1f1;\n",
       "}\n",
       "#T_a82cf_row8_col12 {\n",
       "  font-size: 6pt;\n",
       "  background-color: #303030;\n",
       "  color: #f1f1f1;\n",
       "}\n",
       "#T_a82cf_row8_col13 {\n",
       "  font-size: 6pt;\n",
       "  background-color: #a9a9a9;\n",
       "  color: #f1f1f1;\n",
       "}\n",
       "#T_a82cf_row8_col14 {\n",
       "  font-size: 6pt;\n",
       "  background-color: #fefefe;\n",
       "  color: #000000;\n",
       "}\n",
       "#T_a82cf_row9_col7, #T_a82cf_row9_col8, #T_a82cf_row15_col9 {\n",
       "  font-size: 6pt;\n",
       "  background-color: #bababa;\n",
       "  color: #000000;\n",
       "}\n",
       "#T_a82cf_row9_col9 {\n",
       "  font-size: 6pt;\n",
       "  background-color: #393939;\n",
       "  color: #f1f1f1;\n",
       "}\n",
       "#T_a82cf_row10_col10 {\n",
       "  font-size: 6pt;\n",
       "  background-color: #e2e2e2;\n",
       "  color: #000000;\n",
       "}\n",
       "#T_a82cf_row10_col11 {\n",
       "  font-size: 6pt;\n",
       "  background-color: #9f9f9f;\n",
       "  color: #f1f1f1;\n",
       "}\n",
       "#T_a82cf_row11_col12 {\n",
       "  font-size: 6pt;\n",
       "  background-color: #585858;\n",
       "  color: #f1f1f1;\n",
       "}\n",
       "#T_a82cf_row12_col12 {\n",
       "  font-size: 6pt;\n",
       "  background-color: #5a5a5a;\n",
       "  color: #f1f1f1;\n",
       "}\n",
       "#T_a82cf_row13_col11, #T_a82cf_row18_col10 {\n",
       "  font-size: 6pt;\n",
       "  background-color: #c5c5c5;\n",
       "  color: #000000;\n",
       "}\n",
       "#T_a82cf_row14_col10, #T_a82cf_row17_col4 {\n",
       "  font-size: 6pt;\n",
       "  background-color: #dcdcdc;\n",
       "  color: #000000;\n",
       "}\n",
       "#T_a82cf_row14_col11 {\n",
       "  font-size: 6pt;\n",
       "  background-color: #2f2f2f;\n",
       "  color: #f1f1f1;\n",
       "}\n",
       "#T_a82cf_row14_col14 {\n",
       "  font-size: 6pt;\n",
       "  background-color: #636363;\n",
       "  color: #f1f1f1;\n",
       "}\n",
       "#T_a82cf_row15_col10 {\n",
       "  font-size: 6pt;\n",
       "  background-color: #070707;\n",
       "  color: #f1f1f1;\n",
       "}\n",
       "#T_a82cf_row15_col13 {\n",
       "  font-size: 6pt;\n",
       "  background-color: #1f1f1f;\n",
       "  color: #f1f1f1;\n",
       "}\n",
       "#T_a82cf_row16_col7, #T_a82cf_row17_col1, #T_a82cf_row17_col3 {\n",
       "  font-size: 6pt;\n",
       "  background-color: #e9e9e9;\n",
       "  color: #000000;\n",
       "}\n",
       "#T_a82cf_row16_col8 {\n",
       "  font-size: 6pt;\n",
       "  background-color: #7d7d7d;\n",
       "  color: #f1f1f1;\n",
       "}\n",
       "#T_a82cf_row16_col13 {\n",
       "  font-size: 6pt;\n",
       "  background-color: #e1e1e1;\n",
       "  color: #000000;\n",
       "}\n",
       "#T_a82cf_row17_col2, #T_a82cf_row17_col5 {\n",
       "  font-size: 6pt;\n",
       "  background-color: #a4a4a4;\n",
       "  color: #f1f1f1;\n",
       "}\n",
       "#T_a82cf_row17_col6 {\n",
       "  font-size: 6pt;\n",
       "  background-color: #727272;\n",
       "  color: #f1f1f1;\n",
       "}\n",
       "#T_a82cf_row17_col11 {\n",
       "  font-size: 6pt;\n",
       "  background-color: #616161;\n",
       "  color: #f1f1f1;\n",
       "}\n",
       "#T_a82cf_row17_col12 {\n",
       "  font-size: 6pt;\n",
       "  background-color: #f3f3f3;\n",
       "  color: #000000;\n",
       "}\n",
       "#T_a82cf_row18_col9 {\n",
       "  font-size: 6pt;\n",
       "  background-color: #484848;\n",
       "  color: #f1f1f1;\n",
       "}\n",
       "#T_a82cf_row19_col1 {\n",
       "  font-size: 6pt;\n",
       "  background-color: #b3b3b3;\n",
       "  color: #000000;\n",
       "}\n",
       "#T_a82cf_row19_col7 {\n",
       "  font-size: 6pt;\n",
       "  background-color: #1a1a1a;\n",
       "  color: #f1f1f1;\n",
       "}\n",
       "#T_a82cf_row19_col8 {\n",
       "  font-size: 6pt;\n",
       "  background-color: #d6d6d6;\n",
       "  color: #000000;\n",
       "}\n",
       "</style>\n",
       "<table id=\"T_a82cf\">\n",
       "  <thead>\n",
       "    <tr>\n",
       "      <th class=\"blank level0\" >&nbsp;</th>\n",
       "      <th id=\"T_a82cf_level0_col0\" class=\"col_heading level0 col0\" >0</th>\n",
       "      <th id=\"T_a82cf_level0_col1\" class=\"col_heading level0 col1\" >1</th>\n",
       "      <th id=\"T_a82cf_level0_col2\" class=\"col_heading level0 col2\" >2</th>\n",
       "      <th id=\"T_a82cf_level0_col3\" class=\"col_heading level0 col3\" >3</th>\n",
       "      <th id=\"T_a82cf_level0_col4\" class=\"col_heading level0 col4\" >4</th>\n",
       "      <th id=\"T_a82cf_level0_col5\" class=\"col_heading level0 col5\" >5</th>\n",
       "      <th id=\"T_a82cf_level0_col6\" class=\"col_heading level0 col6\" >6</th>\n",
       "      <th id=\"T_a82cf_level0_col7\" class=\"col_heading level0 col7\" >7</th>\n",
       "      <th id=\"T_a82cf_level0_col8\" class=\"col_heading level0 col8\" >8</th>\n",
       "      <th id=\"T_a82cf_level0_col9\" class=\"col_heading level0 col9\" >9</th>\n",
       "      <th id=\"T_a82cf_level0_col10\" class=\"col_heading level0 col10\" >10</th>\n",
       "      <th id=\"T_a82cf_level0_col11\" class=\"col_heading level0 col11\" >11</th>\n",
       "      <th id=\"T_a82cf_level0_col12\" class=\"col_heading level0 col12\" >12</th>\n",
       "      <th id=\"T_a82cf_level0_col13\" class=\"col_heading level0 col13\" >13</th>\n",
       "      <th id=\"T_a82cf_level0_col14\" class=\"col_heading level0 col14\" >14</th>\n",
       "    </tr>\n",
       "  </thead>\n",
       "  <tbody>\n",
       "    <tr>\n",
       "      <th id=\"T_a82cf_level0_row0\" class=\"row_heading level0 row0\" >0</th>\n",
       "      <td id=\"T_a82cf_row0_col0\" class=\"data row0 col0\" >0</td>\n",
       "      <td id=\"T_a82cf_row0_col1\" class=\"data row0 col1\" >0</td>\n",
       "      <td id=\"T_a82cf_row0_col2\" class=\"data row0 col2\" >0</td>\n",
       "      <td id=\"T_a82cf_row0_col3\" class=\"data row0 col3\" >0</td>\n",
       "      <td id=\"T_a82cf_row0_col4\" class=\"data row0 col4\" >29</td>\n",
       "      <td id=\"T_a82cf_row0_col5\" class=\"data row0 col5\" >150</td>\n",
       "      <td id=\"T_a82cf_row0_col6\" class=\"data row0 col6\" >195</td>\n",
       "      <td id=\"T_a82cf_row0_col7\" class=\"data row0 col7\" >254</td>\n",
       "      <td id=\"T_a82cf_row0_col8\" class=\"data row0 col8\" >255</td>\n",
       "      <td id=\"T_a82cf_row0_col9\" class=\"data row0 col9\" >254</td>\n",
       "      <td id=\"T_a82cf_row0_col10\" class=\"data row0 col10\" >176</td>\n",
       "      <td id=\"T_a82cf_row0_col11\" class=\"data row0 col11\" >193</td>\n",
       "      <td id=\"T_a82cf_row0_col12\" class=\"data row0 col12\" >150</td>\n",
       "      <td id=\"T_a82cf_row0_col13\" class=\"data row0 col13\" >96</td>\n",
       "      <td id=\"T_a82cf_row0_col14\" class=\"data row0 col14\" >0</td>\n",
       "    </tr>\n",
       "    <tr>\n",
       "      <th id=\"T_a82cf_level0_row1\" class=\"row_heading level0 row1\" >1</th>\n",
       "      <td id=\"T_a82cf_row1_col0\" class=\"data row1 col0\" >0</td>\n",
       "      <td id=\"T_a82cf_row1_col1\" class=\"data row1 col1\" >0</td>\n",
       "      <td id=\"T_a82cf_row1_col2\" class=\"data row1 col2\" >48</td>\n",
       "      <td id=\"T_a82cf_row1_col3\" class=\"data row1 col3\" >166</td>\n",
       "      <td id=\"T_a82cf_row1_col4\" class=\"data row1 col4\" >224</td>\n",
       "      <td id=\"T_a82cf_row1_col5\" class=\"data row1 col5\" >253</td>\n",
       "      <td id=\"T_a82cf_row1_col6\" class=\"data row1 col6\" >253</td>\n",
       "      <td id=\"T_a82cf_row1_col7\" class=\"data row1 col7\" >234</td>\n",
       "      <td id=\"T_a82cf_row1_col8\" class=\"data row1 col8\" >196</td>\n",
       "      <td id=\"T_a82cf_row1_col9\" class=\"data row1 col9\" >253</td>\n",
       "      <td id=\"T_a82cf_row1_col10\" class=\"data row1 col10\" >253</td>\n",
       "      <td id=\"T_a82cf_row1_col11\" class=\"data row1 col11\" >253</td>\n",
       "      <td id=\"T_a82cf_row1_col12\" class=\"data row1 col12\" >253</td>\n",
       "      <td id=\"T_a82cf_row1_col13\" class=\"data row1 col13\" >233</td>\n",
       "      <td id=\"T_a82cf_row1_col14\" class=\"data row1 col14\" >0</td>\n",
       "    </tr>\n",
       "    <tr>\n",
       "      <th id=\"T_a82cf_level0_row2\" class=\"row_heading level0 row2\" >2</th>\n",
       "      <td id=\"T_a82cf_row2_col0\" class=\"data row2 col0\" >93</td>\n",
       "      <td id=\"T_a82cf_row2_col1\" class=\"data row2 col1\" >244</td>\n",
       "      <td id=\"T_a82cf_row2_col2\" class=\"data row2 col2\" >249</td>\n",
       "      <td id=\"T_a82cf_row2_col3\" class=\"data row2 col3\" >253</td>\n",
       "      <td id=\"T_a82cf_row2_col4\" class=\"data row2 col4\" >187</td>\n",
       "      <td id=\"T_a82cf_row2_col5\" class=\"data row2 col5\" >46</td>\n",
       "      <td id=\"T_a82cf_row2_col6\" class=\"data row2 col6\" >10</td>\n",
       "      <td id=\"T_a82cf_row2_col7\" class=\"data row2 col7\" >8</td>\n",
       "      <td id=\"T_a82cf_row2_col8\" class=\"data row2 col8\" >4</td>\n",
       "      <td id=\"T_a82cf_row2_col9\" class=\"data row2 col9\" >10</td>\n",
       "      <td id=\"T_a82cf_row2_col10\" class=\"data row2 col10\" >194</td>\n",
       "      <td id=\"T_a82cf_row2_col11\" class=\"data row2 col11\" >253</td>\n",
       "      <td id=\"T_a82cf_row2_col12\" class=\"data row2 col12\" >253</td>\n",
       "      <td id=\"T_a82cf_row2_col13\" class=\"data row2 col13\" >233</td>\n",
       "      <td id=\"T_a82cf_row2_col14\" class=\"data row2 col14\" >0</td>\n",
       "    </tr>\n",
       "    <tr>\n",
       "      <th id=\"T_a82cf_level0_row3\" class=\"row_heading level0 row3\" >3</th>\n",
       "      <td id=\"T_a82cf_row3_col0\" class=\"data row3 col0\" >107</td>\n",
       "      <td id=\"T_a82cf_row3_col1\" class=\"data row3 col1\" >253</td>\n",
       "      <td id=\"T_a82cf_row3_col2\" class=\"data row3 col2\" >253</td>\n",
       "      <td id=\"T_a82cf_row3_col3\" class=\"data row3 col3\" >230</td>\n",
       "      <td id=\"T_a82cf_row3_col4\" class=\"data row3 col4\" >48</td>\n",
       "      <td id=\"T_a82cf_row3_col5\" class=\"data row3 col5\" >0</td>\n",
       "      <td id=\"T_a82cf_row3_col6\" class=\"data row3 col6\" >0</td>\n",
       "      <td id=\"T_a82cf_row3_col7\" class=\"data row3 col7\" >0</td>\n",
       "      <td id=\"T_a82cf_row3_col8\" class=\"data row3 col8\" >0</td>\n",
       "      <td id=\"T_a82cf_row3_col9\" class=\"data row3 col9\" >0</td>\n",
       "      <td id=\"T_a82cf_row3_col10\" class=\"data row3 col10\" >192</td>\n",
       "      <td id=\"T_a82cf_row3_col11\" class=\"data row3 col11\" >253</td>\n",
       "      <td id=\"T_a82cf_row3_col12\" class=\"data row3 col12\" >253</td>\n",
       "      <td id=\"T_a82cf_row3_col13\" class=\"data row3 col13\" >156</td>\n",
       "      <td id=\"T_a82cf_row3_col14\" class=\"data row3 col14\" >0</td>\n",
       "    </tr>\n",
       "    <tr>\n",
       "      <th id=\"T_a82cf_level0_row4\" class=\"row_heading level0 row4\" >4</th>\n",
       "      <td id=\"T_a82cf_row4_col0\" class=\"data row4 col0\" >3</td>\n",
       "      <td id=\"T_a82cf_row4_col1\" class=\"data row4 col1\" >20</td>\n",
       "      <td id=\"T_a82cf_row4_col2\" class=\"data row4 col2\" >20</td>\n",
       "      <td id=\"T_a82cf_row4_col3\" class=\"data row4 col3\" >15</td>\n",
       "      <td id=\"T_a82cf_row4_col4\" class=\"data row4 col4\" >0</td>\n",
       "      <td id=\"T_a82cf_row4_col5\" class=\"data row4 col5\" >0</td>\n",
       "      <td id=\"T_a82cf_row4_col6\" class=\"data row4 col6\" >0</td>\n",
       "      <td id=\"T_a82cf_row4_col7\" class=\"data row4 col7\" >0</td>\n",
       "      <td id=\"T_a82cf_row4_col8\" class=\"data row4 col8\" >0</td>\n",
       "      <td id=\"T_a82cf_row4_col9\" class=\"data row4 col9\" >43</td>\n",
       "      <td id=\"T_a82cf_row4_col10\" class=\"data row4 col10\" >224</td>\n",
       "      <td id=\"T_a82cf_row4_col11\" class=\"data row4 col11\" >253</td>\n",
       "      <td id=\"T_a82cf_row4_col12\" class=\"data row4 col12\" >245</td>\n",
       "      <td id=\"T_a82cf_row4_col13\" class=\"data row4 col13\" >74</td>\n",
       "      <td id=\"T_a82cf_row4_col14\" class=\"data row4 col14\" >0</td>\n",
       "    </tr>\n",
       "    <tr>\n",
       "      <th id=\"T_a82cf_level0_row5\" class=\"row_heading level0 row5\" >5</th>\n",
       "      <td id=\"T_a82cf_row5_col0\" class=\"data row5 col0\" >0</td>\n",
       "      <td id=\"T_a82cf_row5_col1\" class=\"data row5 col1\" >0</td>\n",
       "      <td id=\"T_a82cf_row5_col2\" class=\"data row5 col2\" >0</td>\n",
       "      <td id=\"T_a82cf_row5_col3\" class=\"data row5 col3\" >0</td>\n",
       "      <td id=\"T_a82cf_row5_col4\" class=\"data row5 col4\" >0</td>\n",
       "      <td id=\"T_a82cf_row5_col5\" class=\"data row5 col5\" >0</td>\n",
       "      <td id=\"T_a82cf_row5_col6\" class=\"data row5 col6\" >0</td>\n",
       "      <td id=\"T_a82cf_row5_col7\" class=\"data row5 col7\" >0</td>\n",
       "      <td id=\"T_a82cf_row5_col8\" class=\"data row5 col8\" >0</td>\n",
       "      <td id=\"T_a82cf_row5_col9\" class=\"data row5 col9\" >249</td>\n",
       "      <td id=\"T_a82cf_row5_col10\" class=\"data row5 col10\" >253</td>\n",
       "      <td id=\"T_a82cf_row5_col11\" class=\"data row5 col11\" >245</td>\n",
       "      <td id=\"T_a82cf_row5_col12\" class=\"data row5 col12\" >126</td>\n",
       "      <td id=\"T_a82cf_row5_col13\" class=\"data row5 col13\" >0</td>\n",
       "      <td id=\"T_a82cf_row5_col14\" class=\"data row5 col14\" >0</td>\n",
       "    </tr>\n",
       "    <tr>\n",
       "      <th id=\"T_a82cf_level0_row6\" class=\"row_heading level0 row6\" >6</th>\n",
       "      <td id=\"T_a82cf_row6_col0\" class=\"data row6 col0\" >0</td>\n",
       "      <td id=\"T_a82cf_row6_col1\" class=\"data row6 col1\" >0</td>\n",
       "      <td id=\"T_a82cf_row6_col2\" class=\"data row6 col2\" >0</td>\n",
       "      <td id=\"T_a82cf_row6_col3\" class=\"data row6 col3\" >0</td>\n",
       "      <td id=\"T_a82cf_row6_col4\" class=\"data row6 col4\" >0</td>\n",
       "      <td id=\"T_a82cf_row6_col5\" class=\"data row6 col5\" >0</td>\n",
       "      <td id=\"T_a82cf_row6_col6\" class=\"data row6 col6\" >14</td>\n",
       "      <td id=\"T_a82cf_row6_col7\" class=\"data row6 col7\" >101</td>\n",
       "      <td id=\"T_a82cf_row6_col8\" class=\"data row6 col8\" >223</td>\n",
       "      <td id=\"T_a82cf_row6_col9\" class=\"data row6 col9\" >253</td>\n",
       "      <td id=\"T_a82cf_row6_col10\" class=\"data row6 col10\" >248</td>\n",
       "      <td id=\"T_a82cf_row6_col11\" class=\"data row6 col11\" >124</td>\n",
       "      <td id=\"T_a82cf_row6_col12\" class=\"data row6 col12\" >0</td>\n",
       "      <td id=\"T_a82cf_row6_col13\" class=\"data row6 col13\" >0</td>\n",
       "      <td id=\"T_a82cf_row6_col14\" class=\"data row6 col14\" >0</td>\n",
       "    </tr>\n",
       "    <tr>\n",
       "      <th id=\"T_a82cf_level0_row7\" class=\"row_heading level0 row7\" >7</th>\n",
       "      <td id=\"T_a82cf_row7_col0\" class=\"data row7 col0\" >0</td>\n",
       "      <td id=\"T_a82cf_row7_col1\" class=\"data row7 col1\" >0</td>\n",
       "      <td id=\"T_a82cf_row7_col2\" class=\"data row7 col2\" >0</td>\n",
       "      <td id=\"T_a82cf_row7_col3\" class=\"data row7 col3\" >0</td>\n",
       "      <td id=\"T_a82cf_row7_col4\" class=\"data row7 col4\" >11</td>\n",
       "      <td id=\"T_a82cf_row7_col5\" class=\"data row7 col5\" >166</td>\n",
       "      <td id=\"T_a82cf_row7_col6\" class=\"data row7 col6\" >239</td>\n",
       "      <td id=\"T_a82cf_row7_col7\" class=\"data row7 col7\" >253</td>\n",
       "      <td id=\"T_a82cf_row7_col8\" class=\"data row7 col8\" >253</td>\n",
       "      <td id=\"T_a82cf_row7_col9\" class=\"data row7 col9\" >253</td>\n",
       "      <td id=\"T_a82cf_row7_col10\" class=\"data row7 col10\" >187</td>\n",
       "      <td id=\"T_a82cf_row7_col11\" class=\"data row7 col11\" >30</td>\n",
       "      <td id=\"T_a82cf_row7_col12\" class=\"data row7 col12\" >0</td>\n",
       "      <td id=\"T_a82cf_row7_col13\" class=\"data row7 col13\" >0</td>\n",
       "      <td id=\"T_a82cf_row7_col14\" class=\"data row7 col14\" >0</td>\n",
       "    </tr>\n",
       "    <tr>\n",
       "      <th id=\"T_a82cf_level0_row8\" class=\"row_heading level0 row8\" >8</th>\n",
       "      <td id=\"T_a82cf_row8_col0\" class=\"data row8 col0\" >0</td>\n",
       "      <td id=\"T_a82cf_row8_col1\" class=\"data row8 col1\" >0</td>\n",
       "      <td id=\"T_a82cf_row8_col2\" class=\"data row8 col2\" >0</td>\n",
       "      <td id=\"T_a82cf_row8_col3\" class=\"data row8 col3\" >0</td>\n",
       "      <td id=\"T_a82cf_row8_col4\" class=\"data row8 col4\" >16</td>\n",
       "      <td id=\"T_a82cf_row8_col5\" class=\"data row8 col5\" >248</td>\n",
       "      <td id=\"T_a82cf_row8_col6\" class=\"data row8 col6\" >250</td>\n",
       "      <td id=\"T_a82cf_row8_col7\" class=\"data row8 col7\" >253</td>\n",
       "      <td id=\"T_a82cf_row8_col8\" class=\"data row8 col8\" >253</td>\n",
       "      <td id=\"T_a82cf_row8_col9\" class=\"data row8 col9\" >253</td>\n",
       "      <td id=\"T_a82cf_row8_col10\" class=\"data row8 col10\" >253</td>\n",
       "      <td id=\"T_a82cf_row8_col11\" class=\"data row8 col11\" >232</td>\n",
       "      <td id=\"T_a82cf_row8_col12\" class=\"data row8 col12\" >213</td>\n",
       "      <td id=\"T_a82cf_row8_col13\" class=\"data row8 col13\" >111</td>\n",
       "      <td id=\"T_a82cf_row8_col14\" class=\"data row8 col14\" >2</td>\n",
       "    </tr>\n",
       "    <tr>\n",
       "      <th id=\"T_a82cf_level0_row9\" class=\"row_heading level0 row9\" >9</th>\n",
       "      <td id=\"T_a82cf_row9_col0\" class=\"data row9 col0\" >0</td>\n",
       "      <td id=\"T_a82cf_row9_col1\" class=\"data row9 col1\" >0</td>\n",
       "      <td id=\"T_a82cf_row9_col2\" class=\"data row9 col2\" >0</td>\n",
       "      <td id=\"T_a82cf_row9_col3\" class=\"data row9 col3\" >0</td>\n",
       "      <td id=\"T_a82cf_row9_col4\" class=\"data row9 col4\" >0</td>\n",
       "      <td id=\"T_a82cf_row9_col5\" class=\"data row9 col5\" >0</td>\n",
       "      <td id=\"T_a82cf_row9_col6\" class=\"data row9 col6\" >43</td>\n",
       "      <td id=\"T_a82cf_row9_col7\" class=\"data row9 col7\" >98</td>\n",
       "      <td id=\"T_a82cf_row9_col8\" class=\"data row9 col8\" >98</td>\n",
       "      <td id=\"T_a82cf_row9_col9\" class=\"data row9 col9\" >208</td>\n",
       "      <td id=\"T_a82cf_row9_col10\" class=\"data row9 col10\" >253</td>\n",
       "      <td id=\"T_a82cf_row9_col11\" class=\"data row9 col11\" >253</td>\n",
       "      <td id=\"T_a82cf_row9_col12\" class=\"data row9 col12\" >253</td>\n",
       "      <td id=\"T_a82cf_row9_col13\" class=\"data row9 col13\" >253</td>\n",
       "      <td id=\"T_a82cf_row9_col14\" class=\"data row9 col14\" >187</td>\n",
       "    </tr>\n",
       "    <tr>\n",
       "      <th id=\"T_a82cf_level0_row10\" class=\"row_heading level0 row10\" >10</th>\n",
       "      <td id=\"T_a82cf_row10_col0\" class=\"data row10 col0\" >0</td>\n",
       "      <td id=\"T_a82cf_row10_col1\" class=\"data row10 col1\" >0</td>\n",
       "      <td id=\"T_a82cf_row10_col2\" class=\"data row10 col2\" >0</td>\n",
       "      <td id=\"T_a82cf_row10_col3\" class=\"data row10 col3\" >0</td>\n",
       "      <td id=\"T_a82cf_row10_col4\" class=\"data row10 col4\" >0</td>\n",
       "      <td id=\"T_a82cf_row10_col5\" class=\"data row10 col5\" >0</td>\n",
       "      <td id=\"T_a82cf_row10_col6\" class=\"data row10 col6\" >0</td>\n",
       "      <td id=\"T_a82cf_row10_col7\" class=\"data row10 col7\" >0</td>\n",
       "      <td id=\"T_a82cf_row10_col8\" class=\"data row10 col8\" >0</td>\n",
       "      <td id=\"T_a82cf_row10_col9\" class=\"data row10 col9\" >9</td>\n",
       "      <td id=\"T_a82cf_row10_col10\" class=\"data row10 col10\" >51</td>\n",
       "      <td id=\"T_a82cf_row10_col11\" class=\"data row10 col11\" >119</td>\n",
       "      <td id=\"T_a82cf_row10_col12\" class=\"data row10 col12\" >253</td>\n",
       "      <td id=\"T_a82cf_row10_col13\" class=\"data row10 col13\" >253</td>\n",
       "      <td id=\"T_a82cf_row10_col14\" class=\"data row10 col14\" >253</td>\n",
       "    </tr>\n",
       "    <tr>\n",
       "      <th id=\"T_a82cf_level0_row11\" class=\"row_heading level0 row11\" >11</th>\n",
       "      <td id=\"T_a82cf_row11_col0\" class=\"data row11 col0\" >0</td>\n",
       "      <td id=\"T_a82cf_row11_col1\" class=\"data row11 col1\" >0</td>\n",
       "      <td id=\"T_a82cf_row11_col2\" class=\"data row11 col2\" >0</td>\n",
       "      <td id=\"T_a82cf_row11_col3\" class=\"data row11 col3\" >0</td>\n",
       "      <td id=\"T_a82cf_row11_col4\" class=\"data row11 col4\" >0</td>\n",
       "      <td id=\"T_a82cf_row11_col5\" class=\"data row11 col5\" >0</td>\n",
       "      <td id=\"T_a82cf_row11_col6\" class=\"data row11 col6\" >0</td>\n",
       "      <td id=\"T_a82cf_row11_col7\" class=\"data row11 col7\" >0</td>\n",
       "      <td id=\"T_a82cf_row11_col8\" class=\"data row11 col8\" >0</td>\n",
       "      <td id=\"T_a82cf_row11_col9\" class=\"data row11 col9\" >0</td>\n",
       "      <td id=\"T_a82cf_row11_col10\" class=\"data row11 col10\" >0</td>\n",
       "      <td id=\"T_a82cf_row11_col11\" class=\"data row11 col11\" >1</td>\n",
       "      <td id=\"T_a82cf_row11_col12\" class=\"data row11 col12\" >183</td>\n",
       "      <td id=\"T_a82cf_row11_col13\" class=\"data row11 col13\" >253</td>\n",
       "      <td id=\"T_a82cf_row11_col14\" class=\"data row11 col14\" >253</td>\n",
       "    </tr>\n",
       "    <tr>\n",
       "      <th id=\"T_a82cf_level0_row12\" class=\"row_heading level0 row12\" >12</th>\n",
       "      <td id=\"T_a82cf_row12_col0\" class=\"data row12 col0\" >0</td>\n",
       "      <td id=\"T_a82cf_row12_col1\" class=\"data row12 col1\" >0</td>\n",
       "      <td id=\"T_a82cf_row12_col2\" class=\"data row12 col2\" >0</td>\n",
       "      <td id=\"T_a82cf_row12_col3\" class=\"data row12 col3\" >0</td>\n",
       "      <td id=\"T_a82cf_row12_col4\" class=\"data row12 col4\" >0</td>\n",
       "      <td id=\"T_a82cf_row12_col5\" class=\"data row12 col5\" >0</td>\n",
       "      <td id=\"T_a82cf_row12_col6\" class=\"data row12 col6\" >0</td>\n",
       "      <td id=\"T_a82cf_row12_col7\" class=\"data row12 col7\" >0</td>\n",
       "      <td id=\"T_a82cf_row12_col8\" class=\"data row12 col8\" >0</td>\n",
       "      <td id=\"T_a82cf_row12_col9\" class=\"data row12 col9\" >0</td>\n",
       "      <td id=\"T_a82cf_row12_col10\" class=\"data row12 col10\" >0</td>\n",
       "      <td id=\"T_a82cf_row12_col11\" class=\"data row12 col11\" >0</td>\n",
       "      <td id=\"T_a82cf_row12_col12\" class=\"data row12 col12\" >182</td>\n",
       "      <td id=\"T_a82cf_row12_col13\" class=\"data row12 col13\" >253</td>\n",
       "      <td id=\"T_a82cf_row12_col14\" class=\"data row12 col14\" >253</td>\n",
       "    </tr>\n",
       "    <tr>\n",
       "      <th id=\"T_a82cf_level0_row13\" class=\"row_heading level0 row13\" >13</th>\n",
       "      <td id=\"T_a82cf_row13_col0\" class=\"data row13 col0\" >0</td>\n",
       "      <td id=\"T_a82cf_row13_col1\" class=\"data row13 col1\" >0</td>\n",
       "      <td id=\"T_a82cf_row13_col2\" class=\"data row13 col2\" >0</td>\n",
       "      <td id=\"T_a82cf_row13_col3\" class=\"data row13 col3\" >0</td>\n",
       "      <td id=\"T_a82cf_row13_col4\" class=\"data row13 col4\" >0</td>\n",
       "      <td id=\"T_a82cf_row13_col5\" class=\"data row13 col5\" >0</td>\n",
       "      <td id=\"T_a82cf_row13_col6\" class=\"data row13 col6\" >0</td>\n",
       "      <td id=\"T_a82cf_row13_col7\" class=\"data row13 col7\" >0</td>\n",
       "      <td id=\"T_a82cf_row13_col8\" class=\"data row13 col8\" >0</td>\n",
       "      <td id=\"T_a82cf_row13_col9\" class=\"data row13 col9\" >0</td>\n",
       "      <td id=\"T_a82cf_row13_col10\" class=\"data row13 col10\" >0</td>\n",
       "      <td id=\"T_a82cf_row13_col11\" class=\"data row13 col11\" >85</td>\n",
       "      <td id=\"T_a82cf_row13_col12\" class=\"data row13 col12\" >249</td>\n",
       "      <td id=\"T_a82cf_row13_col13\" class=\"data row13 col13\" >253</td>\n",
       "      <td id=\"T_a82cf_row13_col14\" class=\"data row13 col14\" >253</td>\n",
       "    </tr>\n",
       "    <tr>\n",
       "      <th id=\"T_a82cf_level0_row14\" class=\"row_heading level0 row14\" >14</th>\n",
       "      <td id=\"T_a82cf_row14_col0\" class=\"data row14 col0\" >0</td>\n",
       "      <td id=\"T_a82cf_row14_col1\" class=\"data row14 col1\" >0</td>\n",
       "      <td id=\"T_a82cf_row14_col2\" class=\"data row14 col2\" >0</td>\n",
       "      <td id=\"T_a82cf_row14_col3\" class=\"data row14 col3\" >0</td>\n",
       "      <td id=\"T_a82cf_row14_col4\" class=\"data row14 col4\" >0</td>\n",
       "      <td id=\"T_a82cf_row14_col5\" class=\"data row14 col5\" >0</td>\n",
       "      <td id=\"T_a82cf_row14_col6\" class=\"data row14 col6\" >0</td>\n",
       "      <td id=\"T_a82cf_row14_col7\" class=\"data row14 col7\" >0</td>\n",
       "      <td id=\"T_a82cf_row14_col8\" class=\"data row14 col8\" >0</td>\n",
       "      <td id=\"T_a82cf_row14_col9\" class=\"data row14 col9\" >0</td>\n",
       "      <td id=\"T_a82cf_row14_col10\" class=\"data row14 col10\" >60</td>\n",
       "      <td id=\"T_a82cf_row14_col11\" class=\"data row14 col11\" >214</td>\n",
       "      <td id=\"T_a82cf_row14_col12\" class=\"data row14 col12\" >253</td>\n",
       "      <td id=\"T_a82cf_row14_col13\" class=\"data row14 col13\" >253</td>\n",
       "      <td id=\"T_a82cf_row14_col14\" class=\"data row14 col14\" >173</td>\n",
       "    </tr>\n",
       "    <tr>\n",
       "      <th id=\"T_a82cf_level0_row15\" class=\"row_heading level0 row15\" >15</th>\n",
       "      <td id=\"T_a82cf_row15_col0\" class=\"data row15 col0\" >0</td>\n",
       "      <td id=\"T_a82cf_row15_col1\" class=\"data row15 col1\" >0</td>\n",
       "      <td id=\"T_a82cf_row15_col2\" class=\"data row15 col2\" >0</td>\n",
       "      <td id=\"T_a82cf_row15_col3\" class=\"data row15 col3\" >0</td>\n",
       "      <td id=\"T_a82cf_row15_col4\" class=\"data row15 col4\" >0</td>\n",
       "      <td id=\"T_a82cf_row15_col5\" class=\"data row15 col5\" >0</td>\n",
       "      <td id=\"T_a82cf_row15_col6\" class=\"data row15 col6\" >0</td>\n",
       "      <td id=\"T_a82cf_row15_col7\" class=\"data row15 col7\" >0</td>\n",
       "      <td id=\"T_a82cf_row15_col8\" class=\"data row15 col8\" >0</td>\n",
       "      <td id=\"T_a82cf_row15_col9\" class=\"data row15 col9\" >98</td>\n",
       "      <td id=\"T_a82cf_row15_col10\" class=\"data row15 col10\" >247</td>\n",
       "      <td id=\"T_a82cf_row15_col11\" class=\"data row15 col11\" >253</td>\n",
       "      <td id=\"T_a82cf_row15_col12\" class=\"data row15 col12\" >253</td>\n",
       "      <td id=\"T_a82cf_row15_col13\" class=\"data row15 col13\" >226</td>\n",
       "      <td id=\"T_a82cf_row15_col14\" class=\"data row15 col14\" >9</td>\n",
       "    </tr>\n",
       "    <tr>\n",
       "      <th id=\"T_a82cf_level0_row16\" class=\"row_heading level0 row16\" >16</th>\n",
       "      <td id=\"T_a82cf_row16_col0\" class=\"data row16 col0\" >0</td>\n",
       "      <td id=\"T_a82cf_row16_col1\" class=\"data row16 col1\" >0</td>\n",
       "      <td id=\"T_a82cf_row16_col2\" class=\"data row16 col2\" >0</td>\n",
       "      <td id=\"T_a82cf_row16_col3\" class=\"data row16 col3\" >0</td>\n",
       "      <td id=\"T_a82cf_row16_col4\" class=\"data row16 col4\" >0</td>\n",
       "      <td id=\"T_a82cf_row16_col5\" class=\"data row16 col5\" >0</td>\n",
       "      <td id=\"T_a82cf_row16_col6\" class=\"data row16 col6\" >0</td>\n",
       "      <td id=\"T_a82cf_row16_col7\" class=\"data row16 col7\" >42</td>\n",
       "      <td id=\"T_a82cf_row16_col8\" class=\"data row16 col8\" >150</td>\n",
       "      <td id=\"T_a82cf_row16_col9\" class=\"data row16 col9\" >252</td>\n",
       "      <td id=\"T_a82cf_row16_col10\" class=\"data row16 col10\" >253</td>\n",
       "      <td id=\"T_a82cf_row16_col11\" class=\"data row16 col11\" >253</td>\n",
       "      <td id=\"T_a82cf_row16_col12\" class=\"data row16 col12\" >233</td>\n",
       "      <td id=\"T_a82cf_row16_col13\" class=\"data row16 col13\" >53</td>\n",
       "      <td id=\"T_a82cf_row16_col14\" class=\"data row16 col14\" >0</td>\n",
       "    </tr>\n",
       "    <tr>\n",
       "      <th id=\"T_a82cf_level0_row17\" class=\"row_heading level0 row17\" >17</th>\n",
       "      <td id=\"T_a82cf_row17_col0\" class=\"data row17 col0\" >0</td>\n",
       "      <td id=\"T_a82cf_row17_col1\" class=\"data row17 col1\" >42</td>\n",
       "      <td id=\"T_a82cf_row17_col2\" class=\"data row17 col2\" >115</td>\n",
       "      <td id=\"T_a82cf_row17_col3\" class=\"data row17 col3\" >42</td>\n",
       "      <td id=\"T_a82cf_row17_col4\" class=\"data row17 col4\" >60</td>\n",
       "      <td id=\"T_a82cf_row17_col5\" class=\"data row17 col5\" >115</td>\n",
       "      <td id=\"T_a82cf_row17_col6\" class=\"data row17 col6\" >159</td>\n",
       "      <td id=\"T_a82cf_row17_col7\" class=\"data row17 col7\" >240</td>\n",
       "      <td id=\"T_a82cf_row17_col8\" class=\"data row17 col8\" >253</td>\n",
       "      <td id=\"T_a82cf_row17_col9\" class=\"data row17 col9\" >253</td>\n",
       "      <td id=\"T_a82cf_row17_col10\" class=\"data row17 col10\" >250</td>\n",
       "      <td id=\"T_a82cf_row17_col11\" class=\"data row17 col11\" >175</td>\n",
       "      <td id=\"T_a82cf_row17_col12\" class=\"data row17 col12\" >25</td>\n",
       "      <td id=\"T_a82cf_row17_col13\" class=\"data row17 col13\" >0</td>\n",
       "      <td id=\"T_a82cf_row17_col14\" class=\"data row17 col14\" >0</td>\n",
       "    </tr>\n",
       "    <tr>\n",
       "      <th id=\"T_a82cf_level0_row18\" class=\"row_heading level0 row18\" >18</th>\n",
       "      <td id=\"T_a82cf_row18_col0\" class=\"data row18 col0\" >0</td>\n",
       "      <td id=\"T_a82cf_row18_col1\" class=\"data row18 col1\" >187</td>\n",
       "      <td id=\"T_a82cf_row18_col2\" class=\"data row18 col2\" >253</td>\n",
       "      <td id=\"T_a82cf_row18_col3\" class=\"data row18 col3\" >253</td>\n",
       "      <td id=\"T_a82cf_row18_col4\" class=\"data row18 col4\" >253</td>\n",
       "      <td id=\"T_a82cf_row18_col5\" class=\"data row18 col5\" >253</td>\n",
       "      <td id=\"T_a82cf_row18_col6\" class=\"data row18 col6\" >253</td>\n",
       "      <td id=\"T_a82cf_row18_col7\" class=\"data row18 col7\" >253</td>\n",
       "      <td id=\"T_a82cf_row18_col8\" class=\"data row18 col8\" >253</td>\n",
       "      <td id=\"T_a82cf_row18_col9\" class=\"data row18 col9\" >197</td>\n",
       "      <td id=\"T_a82cf_row18_col10\" class=\"data row18 col10\" >86</td>\n",
       "      <td id=\"T_a82cf_row18_col11\" class=\"data row18 col11\" >0</td>\n",
       "      <td id=\"T_a82cf_row18_col12\" class=\"data row18 col12\" >0</td>\n",
       "      <td id=\"T_a82cf_row18_col13\" class=\"data row18 col13\" >0</td>\n",
       "      <td id=\"T_a82cf_row18_col14\" class=\"data row18 col14\" >0</td>\n",
       "    </tr>\n",
       "    <tr>\n",
       "      <th id=\"T_a82cf_level0_row19\" class=\"row_heading level0 row19\" >19</th>\n",
       "      <td id=\"T_a82cf_row19_col0\" class=\"data row19 col0\" >0</td>\n",
       "      <td id=\"T_a82cf_row19_col1\" class=\"data row19 col1\" >103</td>\n",
       "      <td id=\"T_a82cf_row19_col2\" class=\"data row19 col2\" >253</td>\n",
       "      <td id=\"T_a82cf_row19_col3\" class=\"data row19 col3\" >253</td>\n",
       "      <td id=\"T_a82cf_row19_col4\" class=\"data row19 col4\" >253</td>\n",
       "      <td id=\"T_a82cf_row19_col5\" class=\"data row19 col5\" >253</td>\n",
       "      <td id=\"T_a82cf_row19_col6\" class=\"data row19 col6\" >253</td>\n",
       "      <td id=\"T_a82cf_row19_col7\" class=\"data row19 col7\" >232</td>\n",
       "      <td id=\"T_a82cf_row19_col8\" class=\"data row19 col8\" >67</td>\n",
       "      <td id=\"T_a82cf_row19_col9\" class=\"data row19 col9\" >1</td>\n",
       "      <td id=\"T_a82cf_row19_col10\" class=\"data row19 col10\" >0</td>\n",
       "      <td id=\"T_a82cf_row19_col11\" class=\"data row19 col11\" >0</td>\n",
       "      <td id=\"T_a82cf_row19_col12\" class=\"data row19 col12\" >0</td>\n",
       "      <td id=\"T_a82cf_row19_col13\" class=\"data row19 col13\" >0</td>\n",
       "      <td id=\"T_a82cf_row19_col14\" class=\"data row19 col14\" >0</td>\n",
       "    </tr>\n",
       "  </tbody>\n",
       "</table>\n"
      ],
      "text/plain": [
       "<pandas.io.formats.style.Styler at 0x142ce3cd0c0>"
      ]
     },
     "execution_count": 10,
     "metadata": {},
     "output_type": "execute_result"
    }
   ],
   "source": [
    "im3_t = tensor(im3)\n",
    "df = pd.DataFrame(im3_t[5:25,5:20])\n",
    "df.style.set_properties(**{'font-size':'6pt'}).background_gradient('Greys')"
   ]
  },
  {
   "cell_type": "code",
   "execution_count": 11,
   "id": "30f80cb4-89c6-4511-b1c8-783846922fcc",
   "metadata": {
    "scrolled": true
   },
   "outputs": [
    {
     "data": {
      "text/plain": [
       "(6131, 6265)"
      ]
     },
     "execution_count": 11,
     "metadata": {},
     "output_type": "execute_result"
    }
   ],
   "source": [
    "seven_tensors = [tensor(Image.open(o)) for o in sevens]\n",
    "three_tensors = [tensor(Image.open(o)) for o in threes]\n",
    "len(three_tensors),len(seven_tensors)"
   ]
  },
  {
   "cell_type": "markdown",
   "id": "ead80b72-9162-458a-89da-4d1d2b876c91",
   "metadata": {},
   "source": [
    "with seven_tensors and three_tensors we are going through each image in the file and putting them into a list. So these two variables are lists of tensors for each image that we have iterated through."
   ]
  },
  {
   "cell_type": "code",
   "execution_count": 12,
   "id": "813daa8a-100c-4a0c-8c36-1ddec6365d85",
   "metadata": {
    "scrolled": true
   },
   "outputs": [
    {
     "data": {
      "text/plain": [
       "torch.Size([28, 28])"
      ]
     },
     "execution_count": 12,
     "metadata": {},
     "output_type": "execute_result"
    }
   ],
   "source": [
    "three_tensors[1].shape"
   ]
  },
  {
   "cell_type": "code",
   "execution_count": 13,
   "id": "0ce13604-4f7f-4ca5-8844-b4481120841d",
   "metadata": {},
   "outputs": [
    {
     "data": {
      "text/plain": [
       "torch.Size([28, 28])"
      ]
     },
     "execution_count": 13,
     "metadata": {},
     "output_type": "execute_result"
    }
   ],
   "source": [
    "seven_tensors[1].shape"
   ]
  },
  {
   "cell_type": "markdown",
   "id": "30916dde-dc0d-42bf-9007-a1d39ce6eda5",
   "metadata": {},
   "source": [
    "Remember that what we made into a tensor was each image. The three_tensors is just a list of tensors. As you can see, each image is a tensor that specifies the height and width."
   ]
  },
  {
   "cell_type": "code",
   "execution_count": 14,
   "id": "7d8dd664-882c-404c-ae22-5892140cfab4",
   "metadata": {},
   "outputs": [
    {
     "data": {
      "text/plain": [
       "<Axes: >"
      ]
     },
     "execution_count": 14,
     "metadata": {},
     "output_type": "execute_result"
    },
    {
     "data": {
      "image/png": "[encoded data removed]",
      "text/plain": [
       "<Figure size 100x100 with 1 Axes>"
      ]
     },
     "metadata": {},
     "output_type": "display_data"
    }
   ],
   "source": [
    "show_image(three_tensors[1])"
   ]
  },
  {
   "cell_type": "code",
   "execution_count": 15,
   "id": "c92c3039-35ed-493e-ae69-23899ff0e3ca",
   "metadata": {},
   "outputs": [
    {
     "data": {
      "text/plain": [
       "torch.Size([6131, 28, 28])"
      ]
     },
     "execution_count": 15,
     "metadata": {},
     "output_type": "execute_result"
    }
   ],
   "source": [
    "stacked_threes = torch.stack(three_tensors).float()/255\n",
    "stacked_sevens = torch.stack(seven_tensors).float()/255\n",
    "stacked_threes.shape"
   ]
  },
  {
   "cell_type": "markdown",
   "id": "369ba535-0861-4b36-b027-31dd0c28f2a9",
   "metadata": {},
   "source": [
    "length is the rank of a tensor. (IS NOT CLEARLY DEFINED)\n",
    "rank is the number of axes / dimensions in a tensor.\n",
    "shape is the size of each axis."
   ]
  },
  {
   "cell_type": "markdown",
   "id": "f50ba7b5-c9d7-4d81-a5a8-be86495818ec",
   "metadata": {},
   "source": [
    "\n",
    "stacked_threes means that we are calling pytorch to stack all the 'three' images into a new tensor. At the same time, we divide it by 255 to 'normalize' all the images. So that they are all either between 1 and 0. This is important because it makes things easier to calculate because we don't necessarily need 255 different values.\n",
    "\n",
    "When we stacked the images. It basically took each tensor of our three_tensors and seven_tensors list and combined them into one tensor which is stacked_threes and stacked_sevens. Remember that each element of the three_tensors list is a rank-2 tensor (matrix) that specified the height and width. Using this, the stack method basically 'integrated' this into a rank-3 tensor.\n",
    "\n",
    "it would basically be this tensor[image_index, row_index, column_index]. Wherein if i wanted to access the pixel data of the 1st image's 15th row, and 25th column then i would just state stacked_threes[0, 14, 24]. (zero-based indexing btw) If you tried to output anything that is more than 28 then you'd get an error because the image is only 28x28!"
   ]
  },
  {
   "cell_type": "code",
   "execution_count": 16,
   "id": "101f3d37-52b7-4bf2-a68c-a9f172daa1ef",
   "metadata": {},
   "outputs": [
    {
     "data": {
      "text/plain": [
       "tensor(0.)"
      ]
     },
     "execution_count": 16,
     "metadata": {},
     "output_type": "execute_result"
    }
   ],
   "source": [
    "stacked_threes[1,15,25]"
   ]
  },
  {
   "cell_type": "code",
   "execution_count": 17,
   "id": "78a4ad12-0d2b-4644-b767-a952fc2475f1",
   "metadata": {},
   "outputs": [
    {
     "data": {
      "text/plain": [
       "3"
      ]
     },
     "execution_count": 17,
     "metadata": {},
     "output_type": "execute_result"
    }
   ],
   "source": [
    "len(stacked_threes.shape)"
   ]
  },
  {
   "cell_type": "code",
   "execution_count": 18,
   "id": "6d4829d9-0b86-444f-95e1-ccbf02b3a7b7",
   "metadata": {},
   "outputs": [
    {
     "data": {
      "text/plain": [
       "3"
      ]
     },
     "execution_count": 18,
     "metadata": {},
     "output_type": "execute_result"
    }
   ],
   "source": [
    "stacked_threes.ndim"
   ]
  },
  {
   "cell_type": "markdown",
   "id": "f488728d-4f62-455a-9518-5820d59bfcc6",
   "metadata": {},
   "source": [
    "Both two previous cells provide the same output\n",
    "which is the rank of the tensor."
   ]
  },
  {
   "cell_type": "code",
   "execution_count": 19,
   "id": "5cde6f19-5dcb-4c0c-9738-0c93819e4b29",
   "metadata": {},
   "outputs": [
    {
     "data": {
      "image/png": "[encoded data removed]",
      "text/plain": [
       "<Figure size 100x100 with 1 Axes>"
      ]
     },
     "metadata": {},
     "output_type": "display_data"
    }
   ],
   "source": [
    "mean3 = stacked_threes.mean(0)\n",
    "mean7 = stacked_sevens.mean(0)\n",
    "show_image(mean3);"
   ]
  },
  {
   "cell_type": "markdown",
   "id": "2fe8f909-e114-42bf-9d4d-ffadfcf5a435",
   "metadata": {},
   "source": [
    "We perform mean operation in order to get the mean value of each pixel of all images. This creates a representation of what the image '3' is supposed to be from all the images that we have. We specify the 0 in .mean() because we want the first dimension of the stacked_threes tensor which is the list of all the images that we have.\n",
    "\n",
    "--> The reason that the image is blurry because these are pixels where the images in the list disagree as to whether or not it should be fully dark or not. In other words, the many different images that we have are not exactly similiar in forming a 3 but have many different variants. However, for areas that a majority share similarities, it is fully dark."
   ]
  },
  {
   "cell_type": "code",
   "execution_count": 20,
   "id": "aba96e3a-5535-4d44-8062-7add0e196e4d",
   "metadata": {},
   "outputs": [
    {
     "data": {
      "image/png": "[encoded data removed]",
      "text/plain": [
       "<Figure size 100x100 with 1 Axes>"
      ]
     },
     "metadata": {},
     "output_type": "display_data"
    }
   ],
   "source": [
    "sample3 = stacked_threes[1]\n",
    "sample7 = stacked_sevens[1]\n",
    "show_image(sample3);"
   ]
  },
  {
   "cell_type": "markdown",
   "id": "765f9966-292e-4656-a36f-9ec37302ac66",
   "metadata": {},
   "source": [
    "We are taking a sample from the stacked_threes tensor by selecting the index 1 in the first dimension of the tensor. The reason for this? We want to try comparing this to the average '3' that we made before. See how similiar they are from each other."
   ]
  },
  {
   "cell_type": "code",
   "execution_count": 21,
   "id": "7952a4c7-04d6-4b09-b8f1-964543dfd931",
   "metadata": {},
   "outputs": [
    {
     "data": {
      "text/plain": [
       "(tensor(0.1114), tensor(0.2021))"
      ]
     },
     "execution_count": 21,
     "metadata": {},
     "output_type": "execute_result"
    }
   ],
   "source": [
    "distance3_abs = (sample3 - mean3).abs().mean()\n",
    "distance3_sqr = ((sample3 - mean3)**2).mean().sqrt()\n",
    "distance3_abs, distance3_sqr"
   ]
  },
  {
   "cell_type": "markdown",
   "id": "582d2e0f-cbd4-429b-b922-c562a38db33e",
   "metadata": {},
   "source": [
    "There are two methods to measure distance: \n",
    "\n",
    "The first is to take the mean of the absolute value of differences. Take note that absolute value just removes negatives as absolute values is just simply the distance of a number from zero. \n",
    "\n",
    "This is called **mean absolute difference** or **L1 Norm**\n",
    "\n",
    "Basically you subtract the sample that we took earlier to our average three that we calculated earlier. Afterwards, convert the results to absolute values and the finally, calculate the mean.\n",
    "\n",
    "The second is to square the differences. It's pretty simple. Negative x Negative = Positive. Then do a square root operation so that your squaring will be undone and you get back the original number but in the positive. \n",
    "\n",
    "This is called **root mean squared error** or **L2 Norm**\n",
    "\n",
    "NOTE! - These two different methods have different outputs."
   ]
  },
  {
   "cell_type": "code",
   "execution_count": 22,
   "id": "121a8fd3-47ac-4bcd-ba67-b96f3f448786",
   "metadata": {},
   "outputs": [
    {
     "data": {
      "text/plain": [
       "(tensor(0.1586), tensor(0.3021))"
      ]
     },
     "execution_count": 22,
     "metadata": {},
     "output_type": "execute_result"
    }
   ],
   "source": [
    "distance7_abs = (sample3 - mean7).abs().mean()\n",
    "distance7_sqr = ((sample3 - mean7)**2).mean().sqrt()\n",
    "distance7_abs, distance7_sqr"
   ]
  },
  {
   "cell_type": "markdown",
   "id": "eed9b7ad-b4eb-4fc3-a4c2-acbce71b4caf",
   "metadata": {},
   "source": [
    "Here we check to see  the distance between the sample 3 that we have taken before and the average of 7. Just to compare with the distance of our average 3 to an actual 3. As a result, we can see that from both methods, the distance between the sample 3 and average 7 is higher because of course, they are entirely different numbers as compared to the results of our average 3 and an actual 3 earlier."
   ]
  },
  {
   "cell_type": "code",
   "execution_count": 23,
   "id": "f6649f2b-8584-4b42-9c64-f806b2dbeaa1",
   "metadata": {},
   "outputs": [
    {
     "data": {
      "text/plain": [
       "(tensor(0.1586),)"
      ]
     },
     "execution_count": 23,
     "metadata": {},
     "output_type": "execute_result"
    }
   ],
   "source": [
    "F.l1_loss(sample3.float(),mean7.float()), "
   ]
  },
  {
   "cell_type": "code",
   "execution_count": 24,
   "id": "22c5476f-457e-456e-8e21-c7ae908bec6b",
   "metadata": {},
   "outputs": [
    {
     "data": {
      "text/plain": [
       "tensor(0.3021)"
      ]
     },
     "execution_count": 24,
     "metadata": {},
     "output_type": "execute_result"
    }
   ],
   "source": [
    "F.mse_loss(sample3,mean7).sqrt()"
   ]
  },
  {
   "cell_type": "markdown",
   "id": "ab70100d-8aa8-460f-988d-202556c90408",
   "metadata": {},
   "source": [
    "PyTorch already has their own functions to get the mean absolute difference or **l1_loss** and root mean squared error or **mse_loss**. We don't have to manually do all these operations before. However, we still add in some certain things. For **l1_loss**, the reason that we specify .float() is because we want to have similiar data types. For example, if sample3 is an integer tensor and the mean3 is a float tensor then this data mismatch can result to errors.  "
   ]
  },
  {
   "cell_type": "code",
   "execution_count": 25,
   "id": "c538f9c4-bca4-4310-947a-595c51c2986c",
   "metadata": {},
   "outputs": [],
   "source": [
    "data = [[1,2,3],[4,5,6]]\n",
    "arr = array(data)\n",
    "tns = tensor(data)"
   ]
  },
  {
   "cell_type": "markdown",
   "id": "36374ec0-53bc-4bb0-95ec-ab231e6eb427",
   "metadata": {},
   "source": [
    "Brief explanation between NumPy & PyTorch: \n",
    "\n",
    "Numpy: Widely used library for scientific and numeric programming. However, does not utilize GPU or gradient calculation. These two are items are vital for deep learning. \n",
    "\n",
    "PyTorch: Is an important library for deep learning as it supports the use of a GPU and gradient calculation. However, when it comes to plotting and visualization of tensors, it can be problematic, especially with Matplotlib.\n",
    "\n",
    "So typically, we use both NumPy and PyTorch. We convert NumPy arrays to PyTorch tensors for the majority of calculations and vice versa if we want to visualize or plot these tensors into a graph. \n",
    "\n",
    "PyTorch tensors and NumPy arrays are relatively the same. However, PyTorch tensors must always have the same size. If in the case that a tensor doesn't match the size, then you can substitute a value in its place in order for both sizes to be the same. "
   ]
  },
  {
   "cell_type": "code",
   "execution_count": 26,
   "id": "e2153dba-8dd9-4683-be8a-886be89836e0",
   "metadata": {},
   "outputs": [
    {
     "data": {
      "text/plain": [
       "array([[1, 2, 3],\n",
       "       [4, 5, 6]])"
      ]
     },
     "execution_count": 26,
     "metadata": {},
     "output_type": "execute_result"
    }
   ],
   "source": [
    "arr"
   ]
  },
  {
   "cell_type": "code",
   "execution_count": 27,
   "id": "bbb14706-566e-46e7-bdc4-2c9583b53b65",
   "metadata": {},
   "outputs": [
    {
     "data": {
      "text/plain": [
       "tensor([[1, 2, 3],\n",
       "        [4, 5, 6]])"
      ]
     },
     "execution_count": 27,
     "metadata": {},
     "output_type": "execute_result"
    }
   ],
   "source": [
    "tns"
   ]
  },
  {
   "cell_type": "code",
   "execution_count": 28,
   "id": "d86f131f-7e11-499b-873f-ecc3947e52a4",
   "metadata": {},
   "outputs": [
    {
     "data": {
      "text/plain": [
       "tensor([1, 4])"
      ]
     },
     "execution_count": 28,
     "metadata": {},
     "output_type": "execute_result"
    }
   ],
   "source": [
    "tns[:,0]"
   ]
  },
  {
   "cell_type": "code",
   "execution_count": 29,
   "id": "3b3d8f58-16e4-48bd-a3bb-b4fd5d7b91ee",
   "metadata": {
    "scrolled": true
   },
   "outputs": [
    {
     "data": {
      "text/plain": [
       "(torch.Size([1010, 28, 28]), torch.Size([1028, 28, 28]))"
      ]
     },
     "execution_count": 29,
     "metadata": {},
     "output_type": "execute_result"
    }
   ],
   "source": [
    "valid3_tens = torch.stack([tensor(Image.open(o)) \n",
    "for o in (path/'valid'/'3').ls()])\n",
    "valid3_tens = valid3_tens.float()/255\n",
    "\n",
    "valid7_tens = torch.stack([tensor(Image.open(o))\n",
    "for o in (path/'valid'/'7').ls()])\n",
    "valid7_tens = valid7_tens.float()/255\n",
    "\n",
    "valid3_tens.shape, valid7_tens.shape"
   ]
  },
  {
   "cell_type": "markdown",
   "id": "036bd063-82ce-4cdd-a6aa-1c06192eed49",
   "metadata": {},
   "source": [
    "We want to measure the metric (distance) over a validation set. This is to avoid over-fitting in which our model only works on the data that we have trained it on. The model must also work on data that it has never seen before and that is why a validation set is important. Usually, this is done through removing some off of the training data and using those as the validation set."
   ]
  },
  {
   "cell_type": "code",
   "execution_count": 30,
   "id": "1d7e8105-aa35-4dc1-bb7b-54521eb7cdf3",
   "metadata": {},
   "outputs": [
    {
     "data": {
      "text/plain": [
       "tensor(0.1114)"
      ]
     },
     "execution_count": 30,
     "metadata": {},
     "output_type": "execute_result"
    }
   ],
   "source": [
    "def mnist_distance(a,b): return (a-b).abs().mean((-1,-2))\n",
    "mnist_distance(sample3, mean3)"
   ]
  },
  {
   "cell_type": "markdown",
   "id": "ce975992-e822-497b-8955-dd8ebfef579f",
   "metadata": {},
   "source": [
    "The mnist_distance function is basically a function measuring the distance using the **mean absolute difference** method. The reason that we input a tuple of (-1,-2) in the .mean() is because we are specifying the last two dimensions that we want to take the mean from. Keep in mind that the size of the tensor is 3 with the first element being the number of images. Then the last two are the height and width. This is what we are specifying by saying (-1,-2)."
   ]
  },
  {
   "cell_type": "code",
   "execution_count": 31,
   "id": "5edc16b1-8b9e-4cc0-b24d-3142763bcb44",
   "metadata": {
    "scrolled": true
   },
   "outputs": [
    {
     "data": {
      "text/plain": [
       "(tensor([0.1280, 0.1623, 0.1242,  ..., 0.1508, 0.1263, 0.1260]),\n",
       " torch.Size([1010]))"
      ]
     },
     "execution_count": 31,
     "metadata": {},
     "output_type": "execute_result"
    }
   ],
   "source": [
    "valid3_dist = mnist_distance(valid3_tens, mean3)\n",
    "valid3_dist, valid3_dist.shape"
   ]
  },
  {
   "cell_type": "markdown",
   "id": "d091ce6e-bcca-49b3-80ba-cfd6d0702256",
   "metadata": {},
   "source": [
    "In the cell above we create a tensor with a list of the calculated distances in the validation set. This is all stored in the valid3_dist tensor. But, there is something curious about this. valid3_tens and mean3, the input that we provided to the mnist_distance function, aren't tensors of the same size. Take a look."
   ]
  },
  {
   "cell_type": "code",
   "execution_count": 32,
   "id": "d93aab06-f495-430d-b4fe-13c00e5abc93",
   "metadata": {},
   "outputs": [
    {
     "data": {
      "text/plain": [
       "(torch.Size([1010, 28, 28]), torch.Size([28, 28]))"
      ]
     },
     "execution_count": 32,
     "metadata": {},
     "output_type": "execute_result"
    }
   ],
   "source": [
    "valid3_tens.shape, mean3.shape"
   ]
  },
  {
   "cell_type": "markdown",
   "id": "c96c4962-8af3-435a-82d6-abc11a64d94f",
   "metadata": {},
   "source": [
    "When encountering two tensors of different rank with a simplesubtraction operation, PyTorch will use broadcasting. Which means that it will automatically expand the smaller tensor to have a similiar size with the larger rank. Afterwards, it conducts the \n",
    "usual logic. This is what we mentioned earlier that PyTorch requires tensors with similiar sizes to conduct operations.\n",
    "\n",
    "Here is an example below with an addition of a tensor at size 2 with a tensor of size 1. See how all the elements of the first tensor were applied with the addition operation. "
   ]
  },
  {
   "cell_type": "code",
   "execution_count": 33,
   "id": "c877af13-1f2f-4818-ab99-0c5ae9264de0",
   "metadata": {},
   "outputs": [
    {
     "data": {
      "text/plain": [
       "tensor([[2, 3, 4],\n",
       "        [5, 6, 7]])"
      ]
     },
     "execution_count": 33,
     "metadata": {},
     "output_type": "execute_result"
    }
   ],
   "source": [
    "tensor([1,2,3],[4,5,6]) + tensor(1)"
   ]
  },
  {
   "cell_type": "code",
   "execution_count": 34,
   "id": "2d4bae35-faae-4af1-9d2e-a07fce66fd8d",
   "metadata": {},
   "outputs": [
    {
     "data": {
      "text/plain": [
       "torch.Size([1010, 28, 28])"
      ]
     },
     "execution_count": 34,
     "metadata": {},
     "output_type": "execute_result"
    }
   ],
   "source": [
    "(valid3_tens - mean3).shape"
   ]
  },
  {
   "cell_type": "markdown",
   "id": "edca97fc-6800-49a1-8912-6f6cbb216515",
   "metadata": {},
   "source": [
    "In the operation above, we try to figure out the resulting size of the subtraction operation of valid3_tens and mean3. As you might already know by now, the resulting shape is still pretty much the same as the size of valid3_tens. Remember that mean3 is just a single image of the average of what an 'ideal 3' looks like from the training data. Now, back to the reason why the shape pretty much remains the same, this is because mean3 is 'projected' as 1010 copies with each one being used to subtract with a corresponding image. However, it's important to note that mean3 isn't copied 1010 times, just pretends to be 1010 copies. "
   ]
  },
  {
   "cell_type": "code",
   "execution_count": 35,
   "id": "2ffc2552-3f6f-46be-b51d-21b5654e8e80",
   "metadata": {},
   "outputs": [],
   "source": [
    "def is_3(x): return mnist_distance(x, mean3) < mnist_distance(x, mean7)"
   ]
  },
  {
   "cell_type": "markdown",
   "id": "8e34e0f9-3a57-4840-882a-c94bdbfaf3be",
   "metadata": {},
   "source": [
    "The function above calculates whether or not the input is closer to 3 than 7 by simply determining if the distance of x to mean3 is lower than the distance of x to mean7. "
   ]
  },
  {
   "cell_type": "code",
   "execution_count": 36,
   "id": "a95463d4-d636-4c76-bfa7-a6d2433c766a",
   "metadata": {},
   "outputs": [
    {
     "data": {
      "text/plain": [
       "(tensor(True), tensor(1.))"
      ]
     },
     "execution_count": 36,
     "metadata": {},
     "output_type": "execute_result"
    }
   ],
   "source": [
    "is_3(sample3), is_3(sample3).float()"
   ]
  },
  {
   "cell_type": "code",
   "execution_count": 37,
   "id": "ae8d7fe8-8e69-4ab5-be0f-c4552dc61595",
   "metadata": {},
   "outputs": [
    {
     "data": {
      "text/plain": [
       "(tensor(False), tensor(0.))"
      ]
     },
     "execution_count": 37,
     "metadata": {},
     "output_type": "execute_result"
    }
   ],
   "source": [
    "is_3(sample7), is_3(sample7).float()"
   ]
  },
  {
   "cell_type": "markdown",
   "id": "bc7f23a2-abf1-4e0c-8ecd-dcad1297da2f",
   "metadata": {},
   "source": [
    "**Distance is lower = Closer to 1 - True | Distance is higher = Closer to 0 - False**"
   ]
  },
  {
   "cell_type": "code",
   "execution_count": 38,
   "id": "8666aeb5-4357-4b11-9571-faad2fe371b2",
   "metadata": {},
   "outputs": [
    {
     "data": {
      "text/plain": [
       "tensor([ True,  True,  True,  ..., False,  True,  True])"
      ]
     },
     "execution_count": 38,
     "metadata": {},
     "output_type": "execute_result"
    }
   ],
   "source": [
    "is_3(valid3_tens)"
   ]
  },
  {
   "cell_type": "markdown",
   "id": "57b14e09-eb68-4d9c-adf7-01784e6071fc",
   "metadata": {},
   "source": [
    "The function is_3 can even be applied to the entire validation set. This is thanks to broadcasting automatically doing all the work."
   ]
  },
  {
   "cell_type": "code",
   "execution_count": 39,
   "id": "512a23d5-83e4-470b-bd46-a6d6db03633c",
   "metadata": {},
   "outputs": [
    {
     "data": {
      "text/plain": [
       "(tensor(0.9168), tensor(0.9854), tensor(0.9511))"
      ]
     },
     "execution_count": 39,
     "metadata": {},
     "output_type": "execute_result"
    }
   ],
   "source": [
    "accuracy_3s = is_3(valid3_tens).float().mean()\n",
    "accuracy_7s = (1 - is_3(valid7_tens).float()).mean()\n",
    "\n",
    "accuracy_3s, accuracy_7s, (accuracy_3s+accuracy_7s)/2"
   ]
  },
  {
   "cell_type": "markdown",
   "id": "122552fc-adf2-445b-b084-baad67e1eaba",
   "metadata": {},
   "source": [
    "Since is_3 outputs booleans or 0 - 1. We can take the mean of all the is_3's output and calculate the accuracy metric. Again, we calculate to float to maintain consistency on the data type. For the accuracy_7's we specify **1 -** because we want it to do the opposite. Rather than measuring is_3 it would basically turn into is_not_3. \n",
    "\n",
    "Because of this, we can see that the accuracy_3's and accuracy_7's results are high. The reason that that these aren't fully 1 is because there might be some images in the dataset that look closer (in metric of distance terms) to 7 than a 3 and vice-versa."
   ]
  },
  {
   "cell_type": "code",
   "execution_count": 40,
   "id": "cf878993-1db2-4f10-b49a-1562a2045d73",
   "metadata": {},
   "outputs": [],
   "source": [
    "def f(x): return x**2"
   ]
  },
  {
   "cell_type": "markdown",
   "id": "99b1f62c-b9dd-45b2-8fb3-abe5d1bda6b7",
   "metadata": {},
   "source": [
    "Here we are trying to illustrate how stochastic gradient descent works. --> See book description. This is just an example to illustrate SGD in a simple case. The quadratic function is used as the loss function **(Typically the loss function is the mean squared error - L2 or mean absolute difference - L1)** and X is used as a weight parameter for the function.\n",
    "\n",
    "**This entire segment is just to show how stochastic gradient descent works!**"
   ]
  },
  {
   "cell_type": "code",
   "execution_count": 41,
   "id": "d0becc9d-0a52-4783-a528-3195c4a12418",
   "metadata": {},
   "outputs": [
    {
     "data": {
      "image/png": "[encoded data removed]",
      "text/plain": [
       "<Figure size 600x400 with 1 Axes>"
      ]
     },
     "metadata": {},
     "output_type": "display_data"
    }
   ],
   "source": [
    "plot_function(f, 'x', 'x**2')"
   ]
  },
  {
   "cell_type": "code",
   "execution_count": 42,
   "id": "81cde414-591a-4da7-8f0e-8d04328c0cd3",
   "metadata": {},
   "outputs": [
    {
     "data": {
      "image/png": "[encoded data removed]",
      "text/plain": [
       "<Figure size 600x400 with 1 Axes>"
      ]
     },
     "metadata": {},
     "output_type": "display_data"
    }
   ],
   "source": [
    "plot_function(f, 'x', 'x**2')\n",
    "plt.scatter(-1.5, f(-1.5), color='red');"
   ]
  },
  {
   "cell_type": "markdown",
   "id": "d8d3f27e-dd25-45a7-a380-461b54a638ff",
   "metadata": {},
   "source": [
    "These are all just setting up the necessary start points to get the sample case started. We just picked a random value in the quadratic to get started with calculating the loss. It is important to note that we are not going to go through forward and backward passes in this section. For now, consider that the requires_grad function is just simply magic."
   ]
  },
  {
   "cell_type": "code",
   "execution_count": 43,
   "id": "09768480-0b3c-4e8b-a985-8981e506c5e4",
   "metadata": {},
   "outputs": [],
   "source": [
    "xt = tensor(3.0).requires_grad_()"
   ]
  },
  {
   "cell_type": "code",
   "execution_count": 44,
   "id": "b8e536f3-2eb5-4a27-93cb-26850b076858",
   "metadata": {},
   "outputs": [
    {
     "data": {
      "text/plain": [
       "tensor(9., grad_fn=<PowBackward0>)"
      ]
     },
     "execution_count": 44,
     "metadata": {},
     "output_type": "execute_result"
    }
   ],
   "source": [
    "yt = f(xt)\n",
    "yt"
   ]
  },
  {
   "cell_type": "markdown",
   "id": "a5f56efe-1a75-47ea-8298-a043e06b967f",
   "metadata": {},
   "source": [
    "we input xt into our loss function which is the x**2 and assign the result to the variable yt. So we get a resutk of 9. and have a gradient function built onto the tensor."
   ]
  },
  {
   "cell_type": "code",
   "execution_count": 45,
   "id": "3de9533a-fa01-4a44-9e31-8d0c8d3370ad",
   "metadata": {},
   "outputs": [],
   "source": [
    "yt.backward()"
   ]
  },
  {
   "cell_type": "markdown",
   "id": "30c08404-20f3-4ecb-b592-98286d07bfcc",
   "metadata": {},
   "source": [
    "we call .backward() to yt in order to calculate the gradients for each layer. Don't worry too much in understanding what forward pass and backward pass is since these will be covered in a later date. Just know that .backward() basically calculates the gradients. "
   ]
  },
  {
   "cell_type": "code",
   "execution_count": 46,
   "id": "ac9ae18a-5671-44eb-b4de-cdbd1ce9057f",
   "metadata": {},
   "outputs": [
    {
     "data": {
      "text/plain": [
       "tensor(6.)"
      ]
     },
     "execution_count": 46,
     "metadata": {},
     "output_type": "execute_result"
    }
   ],
   "source": [
    "xt.grad"
   ]
  },
  {
   "cell_type": "markdown",
   "id": "afc0527b-bd8a-41e8-8dd1-56aa6bd815e2",
   "metadata": {},
   "source": [
    "Since we've succesfully calculated the gradients already, we can check the results of xt.grad. The reason that xt.grad is changed is because recall that xt is now connected to yt. \n",
    "\n",
    "How did it go inside yt? Well, when we added .requires_grad_() to xt, this made it so that PyTorch will track changes done to it. In this case, it tracked the computed gradients from yt's backward(). "
   ]
  },
  {
   "cell_type": "code",
   "execution_count": 47,
   "id": "164b78b1-a0dc-4e9b-9e83-9d7e06995dc3",
   "metadata": {},
   "outputs": [
    {
     "data": {
      "text/plain": [
       "tensor(3., requires_grad=True)"
      ]
     },
     "execution_count": 47,
     "metadata": {},
     "output_type": "execute_result"
    }
   ],
   "source": [
    "xt"
   ]
  },
  {
   "cell_type": "markdown",
   "id": "dd210c99-d92d-4cb5-9339-b07c131929d8",
   "metadata": {},
   "source": [
    "xt and xt.grad provide different results because xt.grad stores the calculated gradients fom yt.backward() while xt stores the original values that were provided."
   ]
  },
  {
   "cell_type": "code",
   "execution_count": 48,
   "id": "0733a12c-401a-442a-9bb3-6b354cc05189",
   "metadata": {},
   "outputs": [
    {
     "data": {
      "text/plain": [
       "tensor([ 3.,  4., 10.], requires_grad=True)"
      ]
     },
     "execution_count": 48,
     "metadata": {},
     "output_type": "execute_result"
    }
   ],
   "source": [
    "xt = tensor([3.,4.,10.]).requires_grad_()\n",
    "xt"
   ]
  },
  {
   "cell_type": "markdown",
   "id": "9abf30b9-3c83-4e83-a015-302e7e59af30",
   "metadata": {},
   "source": [
    "Now, this time we're gonna do the same exact thing but with vectors as the inputs. Recall that vectors are one-dimensonal arrays such as a row or a column [3,4,10], scalars which we used previously are individual numbers, and a matrix is two-dimensional ([1,3,4][5,6,7])."
   ]
  },
  {
   "cell_type": "code",
   "execution_count": 49,
   "id": "a68e78c8-5197-4084-a889-54f00013a67c",
   "metadata": {},
   "outputs": [
    {
     "data": {
      "text/plain": [
       "tensor(125., grad_fn=<SumBackward0>)"
      ]
     },
     "execution_count": 49,
     "metadata": {},
     "output_type": "execute_result"
    }
   ],
   "source": [
    "def f(x): return (x**2).sum()\n",
    "\n",
    "yt = f(xt)\n",
    "yt"
   ]
  },
  {
   "cell_type": "markdown",
   "id": "19f369f9-61fc-4044-9792-01b3b07f6c5a",
   "metadata": {},
   "source": [
    "Just the same as the previous function but we summed up all the results from the different elements inside the vector. \n",
    "\n",
    "So 3=9, 4=16, 10=100. Add all these up then you get 125. Pretty simple."
   ]
  },
  {
   "cell_type": "code",
   "execution_count": 50,
   "id": "74cff10a-b665-449c-97a4-181a04899923",
   "metadata": {},
   "outputs": [],
   "source": [
    "yt.backward()"
   ]
  },
  {
   "cell_type": "code",
   "execution_count": 51,
   "id": "f2ba5f59-4186-4cc9-b2ae-bc7053fee969",
   "metadata": {},
   "outputs": [
    {
     "data": {
      "text/plain": [
       "tensor([ 6.,  8., 20.])"
      ]
     },
     "execution_count": 51,
     "metadata": {},
     "output_type": "execute_result"
    }
   ],
   "source": [
    "xt.grad"
   ]
  },
  {
   "cell_type": "markdown",
   "id": "e29b60fb-2c25-4f2b-b9ea-e8034418d104",
   "metadata": {},
   "source": [
    "We do the same thing as before, recall that yt and xt are connected to each other now due to xt having .requires_grad_(). It isn't specifically have to be yt, any variable that you use will still be connected to xt once you call .backward(). \n",
    "\n",
    "This is because with .backward(), PyTorch will actually go back and check all the tensors associated with that variable (in this case yt) and check if they have the .requires_grad_() function.\n",
    "\n",
    "**Note that you can't execute backward() twice.**"
   ]
  },
  {
   "cell_type": "markdown",
   "id": "bea45aea-4592-48b0-a221-94fa0b5fb386",
   "metadata": {},
   "source": [
    "**--> Refer to fastbook STEPPING WITH A LEARNING RATE section. Images in the book will help in visualizing this!!**"
   ]
  },
  {
   "cell_type": "markdown",
   "id": "957bb45f-cedd-422c-bc55-9682dab9426b",
   "metadata": {},
   "source": [
    "Adjusting parameters with this formula | **weight -= gradient(weight) * learning_rate**"
   ]
  },
  {
   "cell_type": "markdown",
   "id": "c5505948-5211-4690-8c8e-6af71234caed",
   "metadata": {},
   "source": [
    "A critical part of deep learning is actually learning, and in this case we measure our learning by how close the model can get to the steepest point. The learning rate is a number that we use to move the gradient (or slope) in the parameter space (x-direction on a graph). \n",
    "\n",
    "So a small number used as a learning rate will make require a lot of steps but this is better than having a higher rate because that would mean a it could even overshoot or go out of bounds. \n",
    "\n",
    "While a small learning rate, while might take a while, can avoid overshooting and going out of bounds."
   ]
  },
  {
   "cell_type": "code",
   "execution_count": 52,
   "id": "067052b8-7c77-4271-9645-ed3d382baf1c",
   "metadata": {},
   "outputs": [
    {
     "data": {
      "text/plain": [
       "tensor([ 0.,  1.,  2.,  3.,  4.,  5.,  6.,  7.,  8.,  9., 10., 11., 12., 13., 14., 15., 16., 17., 18., 19.])"
      ]
     },
     "execution_count": 52,
     "metadata": {},
     "output_type": "execute_result"
    }
   ],
   "source": [
    "time = torch.arange(0,20).float();\n",
    "time"
   ]
  },
  {
   "cell_type": "code",
   "execution_count": 53,
   "id": "91fce0b2-2a02-40e5-9f67-a5b1e032fcf3",
   "metadata": {},
   "outputs": [],
   "source": [
    "speed = torch.randn(20)*3 + 0.75*(time-9.5)**2 + 1"
   ]
  },
  {
   "cell_type": "markdown",
   "id": "568d5a00-a27c-4f02-84d1-47fb552148d2",
   "metadata": {},
   "source": [
    "NOTE: The previous function f(x): x**2 is a bit special because it didn't have any parameters hence there was nothing to optimize. Thus x instead was used to calculate gradients. Take note that function was simply used to demonstrate how gradients work in PyTorch."
   ]
  },
  {
   "cell_type": "code",
   "execution_count": 54,
   "id": "03dbe090-536c-4324-aa76-e282d15fb171",
   "metadata": {},
   "outputs": [
    {
     "data": {
      "image/png": "[encoded data removed]",
      "text/plain": [
       "<Figure size 640x480 with 1 Axes>"
      ]
     },
     "metadata": {},
     "output_type": "display_data"
    }
   ],
   "source": [
    "plt.scatter(time,speed);"
   ]
  },
  {
   "cell_type": "markdown",
   "id": "b29158c4-0639-4657-8b98-68ff41fe4e14",
   "metadata": {},
   "source": [
    "In the code above, we'll be taking an example on how we can implement a learning rate to our gradient descent. To start off, imagine a scenario wherein you were climbing a hill on a car. The climb from the ground to the peak would be a lot harder and you would see your speed drop off. Then as you reach the highest and start descending, you start picking up speed again. \n",
    "\n",
    "Now, there is a lot of random noise added to the speed because we attempted to time the car manually so that's not really an accurate way to record speed. With this in mind, it's not fairly easy to answer the question of what was the speed of the car since the data is a bit skewed and unreliable. However, we can try to model this. The given formula for this would be the quadratic which is a*(x**2) + b*x + c\n",
    "\n",
    "The reason as to why time is the input function is because that is the data that we have. The speed is the target variable because that is what our model needs to predict. Remember the main question: What is the car's speed?"
   ]
  },
  {
   "cell_type": "markdown",
   "id": "829e02aa-abc2-4b6c-b0ec-f8936b3d054f",
   "metadata": {},
   "source": [
    "REMEMBER THE CRUCIAL STEPS:\n",
    "\n",
    "**Choose a model function** - in this case, quadratic. \n",
    "**Initialize Parameters / Weights** - start with random parameters and add the attribute for calculating gradients -> requires_grad_().\n",
    "**Calculate Predictions** - using model function -> input value + params.\n",
    "**Calculate Loss** - using mean squared error (mse_loss / l2_loss ) or mean absolute difference (l1_loss) -> predictions + target variable.\n",
    "**Calculate Gradients** - utilizing the .backward() function. This would update our parameters that has the required gradient attribute. \n",
    "**Step The Weights** - using a specified learning rate and the gradients of the parameters. Utilize the function para -= param.grad * lr. Remember to reset the param.grad to none as we will start to repeat the process.\n",
    "**REPEAT**"
   ]
  },
  {
   "cell_type": "code",
   "execution_count": 55,
   "id": "2164acdb-73f3-457c-897f-2eeff56ef1b1",
   "metadata": {},
   "outputs": [],
   "source": [
    "def mse(preds, targets): return ((preds-targets)**2).mean()"
   ]
  },
  {
   "cell_type": "markdown",
   "id": "cb3e94b4-52aa-49ae-ab27-e8757e531f05",
   "metadata": {},
   "source": [
    "We need to decide on the method that we are going to use to calculate the loss. We are using mean squared error or L2 because it is strict when it comes large errors and punishes them accordingly. As you can see this is a lot similiar to the original introduction of mean squared errors. Wherein measuring the distance between the two for sample3 and mean3 was presented as distance3 = ((sample3-mean3)**2).mean().sqrt()"
   ]
  },
  {
   "cell_type": "markdown",
   "id": "da787022-9bdc-47f7-9a55-ac9153e31821",
   "metadata": {},
   "source": [
    "Take note that root mean squared error and mean squared error are two different things. RMSE is used to measure the actual distance with the values that we are given, meaning that we scale back the results to the original data. Meanwhile mean squared error provides the average of these squared differences. Plus, due to the squaring, this makes errors a lot more impactful."
   ]
  },
  {
   "cell_type": "code",
   "execution_count": 56,
   "id": "ce99d854-fb69-4200-b41d-967788d7016f",
   "metadata": {},
   "outputs": [],
   "source": [
    "def f(time, parameters):\n",
    "    a,b,c = parameters\n",
    "    return a*(time**2) + (b*time) + c "
   ]
  },
  {
   "cell_type": "markdown",
   "id": "7c9cda25-0b6f-4f7c-82fd-5735f0988c17",
   "metadata": {},
   "source": [
    "Note that we haven't really yet created the parameters for this function. Remember that the parameters are usually generated randomly and this is what we will be doing in the next following cells. In the first function which was x**2. There was no method for parameters included."
   ]
  },
  {
   "cell_type": "code",
   "execution_count": 57,
   "id": "8ed1cd87-6e7a-4df8-b5df-ef50b5a11b7c",
   "metadata": {},
   "outputs": [],
   "source": [
    "params = torch.randn(3).requires_grad_()"
   ]
  },
  {
   "cell_type": "code",
   "execution_count": 58,
   "id": "451d68d6-fe12-4165-bf17-4a55dd9af7bc",
   "metadata": {},
   "outputs": [
    {
     "data": {
      "text/plain": [
       "tensor([-0.7658, -0.7506,  1.3525], requires_grad=True)"
      ]
     },
     "execution_count": 58,
     "metadata": {},
     "output_type": "execute_result"
    }
   ],
   "source": [
    "params"
   ]
  },
  {
   "cell_type": "markdown",
   "id": "68b459a1-38bd-48ea-9c3f-b99b6ba5d4ed",
   "metadata": {},
   "source": [
    "We start to create our parameters out of random data and ensure that it has the requires_grad_() function because the parameter are the one's that we calculate the gradients with."
   ]
  },
  {
   "cell_type": "code",
   "execution_count": 59,
   "id": "f549a650-33fe-46ca-81b0-7b014e0c945c",
   "metadata": {},
   "outputs": [],
   "source": [
    "predictions = f(time, params)"
   ]
  },
  {
   "cell_type": "code",
   "execution_count": 60,
   "id": "5e1e7752-b726-4b82-9dba-db2410faeddd",
   "metadata": {},
   "outputs": [
    {
     "data": {
      "text/plain": [
       "tensor([ 1.3525e+00, -1.6391e-01, -3.2121e+00, -7.7919e+00, -1.3903e+01, -2.1547e+01, -3.0721e+01, -4.1428e+01, -5.3666e+01, -6.7436e+01, -8.2738e+01, -9.9571e+01, -1.1794e+02, -1.3783e+02,\n",
       "        -1.5926e+02, -1.8222e+02, -2.0671e+02, -2.3274e+02, -2.6029e+02, -2.8938e+02], grad_fn=<AddBackward0>)"
      ]
     },
     "execution_count": 60,
     "metadata": {},
     "output_type": "execute_result"
    }
   ],
   "source": [
    "predictions"
   ]
  },
  {
   "cell_type": "code",
   "execution_count": 61,
   "id": "fa218a19-6b0e-4742-a50a-c8951ea77316",
   "metadata": {},
   "outputs": [],
   "source": [
    "def show_preds(preds, ax=None):\n",
    "    if ax is None: ax=plt.subplots()[1]\n",
    "    ax.scatter(time, speed)\n",
    "    ax.scatter(time, to_np(preds), color='red')\n",
    "    ax.set_ylim(-300,100)"
   ]
  },
  {
   "cell_type": "markdown",
   "id": "1e15c595-204c-423a-b225-037b6c0d92c9",
   "metadata": {},
   "source": [
    "this function is primarily done to just showcase the predictions as a graph. No biggie."
   ]
  },
  {
   "cell_type": "code",
   "execution_count": 62,
   "id": "34807308-a91f-4367-950e-5d5e233248b6",
   "metadata": {},
   "outputs": [
    {
     "data": {
      "image/png": "[encoded data removed]",
      "text/plain": [
       "<Figure size 640x480 with 1 Axes>"
      ]
     },
     "metadata": {},
     "output_type": "display_data"
    }
   ],
   "source": [
    "show_preds(predictions)"
   ]
  },
  {
   "cell_type": "markdown",
   "id": "db524989-c5e1-4409-ba4f-e58734cc107b",
   "metadata": {},
   "source": [
    "The prediction for the speed is a tad bit off (gross understatement). Understandable since the parameters were basically randomized but we'll need to fix that. "
   ]
  },
  {
   "cell_type": "code",
   "execution_count": 63,
   "id": "fb5d672f-2871-4f92-abaa-91d18e5be13e",
   "metadata": {},
   "outputs": [],
   "source": [
    "loss = mse(predictions, speed)"
   ]
  },
  {
   "cell_type": "code",
   "execution_count": 64,
   "id": "6d7c3ab9-ea0d-4034-8cb1-58e62c7f18c2",
   "metadata": {},
   "outputs": [
    {
     "data": {
      "text/plain": [
       "tensor(25823.8086, grad_fn=<MeanBackward0>)"
      ]
     },
     "execution_count": 64,
     "metadata": {},
     "output_type": "execute_result"
    }
   ],
   "source": [
    "loss"
   ]
  },
  {
   "cell_type": "markdown",
   "id": "fdaac930-9bf6-421b-a0b9-676a28cad2c0",
   "metadata": {},
   "source": [
    "So just to compare, this is akin to: distance3_sqr = ((sample3 - mean3)**2).mean().sqrt() just without the square root due to us using mean squared error only and not root mean squared error."
   ]
  },
  {
   "cell_type": "code",
   "execution_count": 65,
   "id": "b8a9a138-56ff-4e9b-b1f3-cf5c45683f33",
   "metadata": {},
   "outputs": [],
   "source": [
    "loss.backward()"
   ]
  },
  {
   "cell_type": "markdown",
   "id": "1bd0ca26-ed8f-4bee-8b44-bcaa3531fdd0",
   "metadata": {},
   "source": [
    "Now that we've had our loss. It's time to calculate the gradients. Remember the steps! We call params.grad because params is the one that has the required_grad_() tag. "
   ]
  },
  {
   "cell_type": "code",
   "execution_count": 66,
   "id": "8822a935-e813-4999-a7dc-f47344b4c74d",
   "metadata": {},
   "outputs": [
    {
     "data": {
      "text/plain": [
       "tensor([-53195.8633,  -3419.7148,   -253.8908])"
      ]
     },
     "execution_count": 66,
     "metadata": {},
     "output_type": "execute_result"
    }
   ],
   "source": [
    "params.grad"
   ]
  },
  {
   "cell_type": "code",
   "execution_count": 67,
   "id": "a6376c30-d222-429b-b4a9-08e1cab80b24",
   "metadata": {},
   "outputs": [
    {
     "data": {
      "text/plain": [
       "tensor([-53195.8633,  -3419.7148,   -253.8908])"
      ]
     },
     "execution_count": 67,
     "metadata": {},
     "output_type": "execute_result"
    }
   ],
   "source": [
    "params.grad.data"
   ]
  },
  {
   "cell_type": "code",
   "execution_count": 68,
   "id": "3b1a327b-ea14-4e05-b943-c45e2738d710",
   "metadata": {
    "scrolled": true
   },
   "outputs": [
    {
     "data": {
      "text/plain": [
       "tensor([-0.7658, -0.7506,  1.3525])"
      ]
     },
     "execution_count": 68,
     "metadata": {},
     "output_type": "execute_result"
    }
   ],
   "source": [
    "params.data"
   ]
  },
  {
   "cell_type": "markdown",
   "id": "1a100ee5-b4ae-49eb-b048-31732c678c7c",
   "metadata": {},
   "source": [
    "Note that you don't need to specifically use params.grad.data -- This is actually considered an archaeic way of accessing grad data and instead you should only use params.grad"
   ]
  },
  {
   "cell_type": "code",
   "execution_count": 69,
   "id": "9f9c36c4-5d98-4ad5-8a3c-ff16735a34fe",
   "metadata": {
    "scrolled": true
   },
   "outputs": [
    {
     "data": {
      "text/plain": [
       "tensor([-0.7658, -0.7506,  1.3525], requires_grad=True)"
      ]
     },
     "execution_count": 69,
     "metadata": {},
     "output_type": "execute_result"
    }
   ],
   "source": [
    "params"
   ]
  },
  {
   "cell_type": "markdown",
   "id": "12384940-21c1-4ec7-ba88-f06044bdc059",
   "metadata": {},
   "source": [
    "Remember that params.grad is the calculated gradients, params.data holds the actual current value of the weight, and params is the entire tensor which includes the gradient information. We want to specify the current weights only so that's why we use params.data. "
   ]
  },
  {
   "cell_type": "code",
   "execution_count": 70,
   "id": "23e47d41-8eff-4641-860b-8ad92fc3c8e2",
   "metadata": {},
   "outputs": [],
   "source": [
    "lr = 1e-5\n",
    "params.data -= params.grad * lr\n",
    "params.grad = None"
   ]
  },
  {
   "cell_type": "markdown",
   "id": "135e9777-e131-4599-b59a-afa98e5410ea",
   "metadata": {},
   "source": [
    "Using the our specified learning rate and the associated formula. We have now succesfully adjusted the parameters. Or in other words, 'stepped' the weights. Since we're done with the gradients that we used before, we can now reset the gradients by specifying params.grad = None."
   ]
  },
  {
   "cell_type": "code",
   "execution_count": 71,
   "id": "18cf8c5e-9ddb-4f6d-a628-48f31ca684c4",
   "metadata": {},
   "outputs": [],
   "source": [
    "preds = f(time, params)"
   ]
  },
  {
   "cell_type": "markdown",
   "id": "cf0e8706-59ee-4c45-9379-67c665e2df84",
   "metadata": {},
   "source": [
    "Since we have adjusted already adjusted the parameters (weights). It's time to redo the entire process. Starting by creating new predictions with the adjusted parameters."
   ]
  },
  {
   "cell_type": "code",
   "execution_count": 72,
   "id": "2d25e665-22d1-4df7-86ef-d07937b206b1",
   "metadata": {},
   "outputs": [
    {
     "data": {
      "text/plain": [
       "tensor(5435.5356, grad_fn=<MeanBackward0>)"
      ]
     },
     "execution_count": 72,
     "metadata": {},
     "output_type": "execute_result"
    }
   ],
   "source": [
    "mse(preds, speed)"
   ]
  },
  {
   "cell_type": "markdown",
   "id": "8c554539-de5e-4d93-9b9b-24e5dbb6eeb9",
   "metadata": {},
   "source": [
    "Let's take a look at the loss. If we compare this to the original loss. It's gotten a lot better."
   ]
  },
  {
   "cell_type": "code",
   "execution_count": 73,
   "id": "9b97b173-2e19-4403-a84c-d07af693563f",
   "metadata": {},
   "outputs": [
    {
     "data": {
      "image/png": "[encoded data removed]",
      "text/plain": [
       "<Figure size 640x480 with 1 Axes>"
      ]
     },
     "metadata": {},
     "output_type": "display_data"
    }
   ],
   "source": [
    "show_preds(preds)"
   ]
  },
  {
   "cell_type": "markdown",
   "id": "c8ebee17-9933-4a7d-90a0-399eba84a0d9",
   "metadata": {},
   "source": [
    "If we check the predictions on the graph. It's true that it's gotten better. However, it's still not close to what we want. "
   ]
  },
  {
   "cell_type": "code",
   "execution_count": 74,
   "id": "4a7a3273-cdcf-4842-926b-72a3491e2eba",
   "metadata": {},
   "outputs": [],
   "source": [
    "def apply_step(params, prn=True):\n",
    "    predictions = f(time, params)\n",
    "    loss = mse(predictions, speed)\n",
    "    loss.backward()\n",
    "    params.data -= params.grad * lr\n",
    "    params.grad = None\n",
    "    if prn: print(loss.item())\n",
    "    return preds"
   ]
  },
  {
   "cell_type": "markdown",
   "id": "779d5598-b5f8-45a1-beff-d9ce7789e5be",
   "metadata": {},
   "source": [
    "This just basically compresses the entire process before into one function. The second argument - prn=True - is a handy addition that we made in order to print out the loss with loss.item(). Why not just ditch the prn=True? and just automatically print the loss? Well, that's just so we have more functionality in the code. It's good practice."
   ]
  },
  {
   "cell_type": "code",
   "execution_count": 75,
   "id": "6c25d88f-69d4-4cb3-8767-410f3d5e845f",
   "metadata": {
    "scrolled": true
   },
   "outputs": [
    {
     "name": "stdout",
     "output_type": "stream",
     "text": [
      "5435.53564453125\n",
      "1577.44921875\n",
      "847.3778076171875\n",
      "709.2225341796875\n",
      "683.0758056640625\n",
      "678.1243896484375\n",
      "677.1838989257812\n",
      "677.0023803710938\n",
      "676.9645385742188\n",
      "676.9537353515625\n"
     ]
    }
   ],
   "source": [
    "for i in range(10): apply_step(params)"
   ]
  },
  {
   "cell_type": "code",
   "execution_count": 76,
   "id": "d56617cb-575e-45ab-a3b9-d651b031a87a",
   "metadata": {},
   "outputs": [
    {
     "data": {
      "text/plain": [
       "(torch.Size([6131, 28, 28]), torch.Size([6265, 28, 28]))"
      ]
     },
     "execution_count": 76,
     "metadata": {},
     "output_type": "execute_result"
    }
   ],
   "source": [
    "stacked_threes.shape, stacked_sevens.shape"
   ]
  },
  {
   "cell_type": "markdown",
   "id": "c598457e-702b-4735-aa9f-dac86e67f48c",
   "metadata": {},
   "source": [
    "Now we iterate by looping through the step again and again. We've seen the loss going down per each iteration. Since we've iterated through 10 epochs already. That's a good enough spot to stop."
   ]
  },
  {
   "cell_type": "code",
   "execution_count": 77,
   "id": "7a0813b8-7f4b-4872-a02a-e05087fe5d32",
   "metadata": {},
   "outputs": [],
   "source": [
    "train_x = torch.cat([stacked_threes, stacked_sevens]).view(-1, 28*28)"
   ]
  },
  {
   "cell_type": "code",
   "execution_count": 78,
   "id": "cde2b3cc-f364-4bcd-81b6-8df3de8a9284",
   "metadata": {},
   "outputs": [
    {
     "data": {
      "text/plain": [
       "tensor([0.0000, 0.0000, 0.0000, 0.0000, 0.0000, 0.0000, 0.0000, 0.0000, 0.0000, 0.0000, 0.0000, 0.0000, 0.0000, 0.0000, 0.0000, 0.0000, 0.0000, 0.0000, 0.0000, 0.0000, 0.0000, 0.0000, 0.0000, 0.0000,\n",
       "        0.0000, 0.0000, 0.0000, 0.0000, 0.0000, 0.0000, 0.0000, 0.0000, 0.0000, 0.0000, 0.0000, 0.0000, 0.0000, 0.0000, 0.0000, 0.0000, 0.0000, 0.0000, 0.0000, 0.0000, 0.0000, 0.0000, 0.0000, 0.0000,\n",
       "        0.0000, 0.0000, 0.0000, 0.0000, 0.0000, 0.0000, 0.0000, 0.0000, 0.0000, 0.0000, 0.0000, 0.0000, 0.0000, 0.0000, 0.0000, 0.0000, 0.0000, 0.0000, 0.0000, 0.0000, 0.0000, 0.0000, 0.0000, 0.0000,\n",
       "        0.0000, 0.0000, 0.0000, 0.0000, 0.0000, 0.0000, 0.0000, 0.0000, 0.0000, 0.0000, 0.0000, 0.0000, 0.0000, 0.0000, 0.0000, 0.0000, 0.0000, 0.0000, 0.0000, 0.0000, 0.0000, 0.0000, 0.0000, 0.0000,\n",
       "        0.0000, 0.0000, 0.0000, 0.0000, 0.0000, 0.0000, 0.0000, 0.0000, 0.0000, 0.0000, 0.0000, 0.0000, 0.0000, 0.0000, 0.0000, 0.0000, 0.0000, 0.0000, 0.0000, 0.0000, 0.0000, 0.0000, 0.0000, 0.0000,\n",
       "        0.0000, 0.0000, 0.0000, 0.0000, 0.0000, 0.0000, 0.0000, 0.0000, 0.0000, 0.0000, 0.0000, 0.0000, 0.0000, 0.0000, 0.0000, 0.0000, 0.0000, 0.0000, 0.0000, 0.0000, 0.0000, 0.0000, 0.0000, 0.0000,\n",
       "        0.0000, 0.0000, 0.0000, 0.0000, 0.0000, 0.1137, 0.5882, 0.7647, 0.9961, 1.0000, 0.9961, 0.6902, 0.7569, 0.5882, 0.3765, 0.0000, 0.0000, 0.0000, 0.0000, 0.0000, 0.0000, 0.0000, 0.0000, 0.0000,\n",
       "        0.0000, 0.0000, 0.0000, 0.0000, 0.0000, 0.0000, 0.0000, 0.1882, 0.6510, 0.8784, 0.9922, 0.9922, 0.9176, 0.7686, 0.9922, 0.9922, 0.9922, 0.9922, 0.9137, 0.0000, 0.0000, 0.0000, 0.0000, 0.0000,\n",
       "        0.0000, 0.0000, 0.0000, 0.0000, 0.0000, 0.0000, 0.0000, 0.0000, 0.0000, 0.3647, 0.9569, 0.9765, 0.9922, 0.7333, 0.1804, 0.0392, 0.0314, 0.0157, 0.0392, 0.7608, 0.9922, 0.9922, 0.9137, 0.0000,\n",
       "        0.0000, 0.0000, 0.0000, 0.0000, 0.0000, 0.0000, 0.0000, 0.0000, 0.0000, 0.0000, 0.0000, 0.0000, 0.0000, 0.4196, 0.9922, 0.9922, 0.9020, 0.1882, 0.0000, 0.0000, 0.0000, 0.0000, 0.0000, 0.7529,\n",
       "        0.9922, 0.9922, 0.6118, 0.0000, 0.0000, 0.0000, 0.0000, 0.0000, 0.0000, 0.0000, 0.0000, 0.0000, 0.0000, 0.0000, 0.0000, 0.0000, 0.0000, 0.0118, 0.0784, 0.0784, 0.0588, 0.0000, 0.0000, 0.0000,\n",
       "        0.0000, 0.0000, 0.1686, 0.8784, 0.9922, 0.9608, 0.2902, 0.0000, 0.0000, 0.0000, 0.0000, 0.0000, 0.0000, 0.0000, 0.0000, 0.0000, 0.0000, 0.0000, 0.0000, 0.0000, 0.0000, 0.0000, 0.0000, 0.0000,\n",
       "        0.0000, 0.0000, 0.0000, 0.0000, 0.0000, 0.0000, 0.9765, 0.9922, 0.9608, 0.4941, 0.0000, 0.0000, 0.0000, 0.0000, 0.0000, 0.0000, 0.0000, 0.0000, 0.0000, 0.0000, 0.0000, 0.0000, 0.0000, 0.0000,\n",
       "        0.0000, 0.0000, 0.0000, 0.0000, 0.0000, 0.0000, 0.0000, 0.0549, 0.3961, 0.8745, 0.9922, 0.9725, 0.4863, 0.0000, 0.0000, 0.0000, 0.0000, 0.0000, 0.0000, 0.0000, 0.0000, 0.0000, 0.0000, 0.0000,\n",
       "        0.0000, 0.0000, 0.0000, 0.0000, 0.0000, 0.0000, 0.0000, 0.0000, 0.0000, 0.0431, 0.6510, 0.9373, 0.9922, 0.9922, 0.9922, 0.7333, 0.1176, 0.0000, 0.0000, 0.0000, 0.0000, 0.0000, 0.0000, 0.0000,\n",
       "        0.0000, 0.0000, 0.0000, 0.0000, 0.0000, 0.0000, 0.0000, 0.0000, 0.0000, 0.0000, 0.0000, 0.0000, 0.0000, 0.0627, 0.9725, 0.9804, 0.9922, 0.9922, 0.9922, 0.9922, 0.9098, 0.8353, 0.4353, 0.0078,\n",
       "        0.0000, 0.0000, 0.0000, 0.0000, 0.0000, 0.0000, 0.0000, 0.0000, 0.0000, 0.0000, 0.0000, 0.0000, 0.0000, 0.0000, 0.0000, 0.0000, 0.0000, 0.0000, 0.0000, 0.1686, 0.3843, 0.3843, 0.8157, 0.9922,\n",
       "        0.9922, 0.9922, 0.9922, 0.7333, 0.0863, 0.0000, 0.0000, 0.0000, 0.0000, 0.0000, 0.0000, 0.0000, 0.0000, 0.0000, 0.0000, 0.0000, 0.0000, 0.0000, 0.0000, 0.0000, 0.0000, 0.0000, 0.0000, 0.0000,\n",
       "        0.0000, 0.0000, 0.0353, 0.2000, 0.4667, 0.9922, 0.9922, 0.9922, 0.2980, 0.0000, 0.0000, 0.0000, 0.0000, 0.0000, 0.0000, 0.0000, 0.0000, 0.0000, 0.0000, 0.0000, 0.0000, 0.0000, 0.0000, 0.0000,\n",
       "        0.0000, 0.0000, 0.0000, 0.0000, 0.0000, 0.0000, 0.0000, 0.0000, 0.0039, 0.7176, 0.9922, 0.9922, 0.5451, 0.0000, 0.0000, 0.0000, 0.0000, 0.0000, 0.0000, 0.0000, 0.0000, 0.0000, 0.0000, 0.0000,\n",
       "        0.0000, 0.0000, 0.0000, 0.0000, 0.0000, 0.0000, 0.0000, 0.0000, 0.0000, 0.0000, 0.0000, 0.0000, 0.0000, 0.7137, 0.9922, 0.9922, 0.4078, 0.0000, 0.0000, 0.0000, 0.0000, 0.0000, 0.0000, 0.0000,\n",
       "        0.0000, 0.0000, 0.0000, 0.0000, 0.0000, 0.0000, 0.0000, 0.0000, 0.0000, 0.0000, 0.0000, 0.0000, 0.0000, 0.0000, 0.0000, 0.0000, 0.3333, 0.9765, 0.9922, 0.9922, 0.1412, 0.0000, 0.0000, 0.0000,\n",
       "        0.0000, 0.0000, 0.0000, 0.0000, 0.0000, 0.0000, 0.0000, 0.0000, 0.0000, 0.0000, 0.0000, 0.0000, 0.0000, 0.0000, 0.0000, 0.0000, 0.0000, 0.0000, 0.0000, 0.2353, 0.8392, 0.9922, 0.9922, 0.6784,\n",
       "        0.0431, 0.0000, 0.0000, 0.0000, 0.0000, 0.0000, 0.0000, 0.0000, 0.0000, 0.0000, 0.0000, 0.0000, 0.0000, 0.0000, 0.0000, 0.0000, 0.0000, 0.0000, 0.0000, 0.0000, 0.0000, 0.0000, 0.3843, 0.9686,\n",
       "        0.9922, 0.9922, 0.8863, 0.0353, 0.0000, 0.0000, 0.0000, 0.0000, 0.0000, 0.0000, 0.0000, 0.0000, 0.0000, 0.0000, 0.0000, 0.0000, 0.0000, 0.0000, 0.0000, 0.0000, 0.0000, 0.0000, 0.0000, 0.0000,\n",
       "        0.1647, 0.5882, 0.9882, 0.9922, 0.9922, 0.9137, 0.2078, 0.0000, 0.0000, 0.0000, 0.0000, 0.0000, 0.0000, 0.0000, 0.0000, 0.0000, 0.0000, 0.0000, 0.0000, 0.0000, 0.0000, 0.0000, 0.1647, 0.4510,\n",
       "        0.1647, 0.2353, 0.4510, 0.6235, 0.9412, 0.9922, 0.9922, 0.9804, 0.6863, 0.0980, 0.0000, 0.0000, 0.0000, 0.0000, 0.0000, 0.0000, 0.0000, 0.0000, 0.0000, 0.0000, 0.0000, 0.0000, 0.0000, 0.0000,\n",
       "        0.0000, 0.0000, 0.7333, 0.9922, 0.9922, 0.9922, 0.9922, 0.9922, 0.9922, 0.9922, 0.7725, 0.3373, 0.0000, 0.0000, 0.0000, 0.0000, 0.0000, 0.0000, 0.0000, 0.0000, 0.0000, 0.0000, 0.0000, 0.0000,\n",
       "        0.0000, 0.0000, 0.0000, 0.0000, 0.0000, 0.0000, 0.4039, 0.9922, 0.9922, 0.9922, 0.9922, 0.9922, 0.9098, 0.2627, 0.0039, 0.0000, 0.0000, 0.0000, 0.0000, 0.0000, 0.0000, 0.0000, 0.0000, 0.0000,\n",
       "        0.0000, 0.0000, 0.0000, 0.0000, 0.0000, 0.0000, 0.0000, 0.0000, 0.0000, 0.0000, 0.0000, 0.0000, 0.0000, 0.0000, 0.0000, 0.0000, 0.0000, 0.0000, 0.0000, 0.0000, 0.0000, 0.0000, 0.0000, 0.0000,\n",
       "        0.0000, 0.0000, 0.0000, 0.0000, 0.0000, 0.0000, 0.0000, 0.0000, 0.0000, 0.0000, 0.0000, 0.0000, 0.0000, 0.0000, 0.0000, 0.0000, 0.0000, 0.0000, 0.0000, 0.0000, 0.0000, 0.0000, 0.0000, 0.0000,\n",
       "        0.0000, 0.0000, 0.0000, 0.0000, 0.0000, 0.0000, 0.0000, 0.0000, 0.0000, 0.0000, 0.0000, 0.0000, 0.0000, 0.0000, 0.0000, 0.0000, 0.0000, 0.0000, 0.0000, 0.0000, 0.0000, 0.0000, 0.0000, 0.0000,\n",
       "        0.0000, 0.0000, 0.0000, 0.0000, 0.0000, 0.0000, 0.0000, 0.0000, 0.0000, 0.0000, 0.0000, 0.0000, 0.0000, 0.0000, 0.0000, 0.0000])"
      ]
     },
     "execution_count": 78,
     "metadata": {},
     "output_type": "execute_result"
    }
   ],
   "source": [
    "train_x[1]"
   ]
  },
  {
   "cell_type": "code",
   "execution_count": 79,
   "id": "2f061d07-9f5b-4cfd-b525-59f6083ddbc8",
   "metadata": {},
   "outputs": [
    {
     "data": {
      "text/plain": [
       "torch.Size([12396, 784])"
      ]
     },
     "execution_count": 79,
     "metadata": {},
     "output_type": "execute_result"
    }
   ],
   "source": [
    "train_x.shape"
   ]
  },
  {
   "cell_type": "markdown",
   "id": "6a9f646a-abc4-4d92-ba70-8a34f701e71a",
   "metadata": {},
   "source": [
    "So it's time to get started with actually using our images. Firstly, we'll need to concatenate all these variables (stacked_threes and stacked_sevens) into one single tensor. Now stacked_threes and stacked_sevens are both rank-3 tensors (multidimensional matrix). We need to convert them to both into a rank-2 tensor (matrix). \n",
    "\n",
    "The reason that we have to change this into a rank-2 tensor is because most neural networks require inputs to be of rank-1 tensor (vector). Now you might wonder. How does the height and width data form in the vector? It's simply by sequence. So the first 28 elements would be the first row and so on and so forth until all the rows are done. Afterwards, then the columns would be next. \n",
    "\n",
    ".view() is a special function that would change the size or resize the shape of a tensor without changing it's contents. -1 is a special parameter to view that means \"make this axis as big as necessary to fit all the data\" Meanwhile it specifies that the 2nd parameter would be to merge the 2nd and 3rd dimensions.\n",
    "\n",
    "For stacked_threes and stacked_sevens, which have shapes like {number of images, 28, 28}, the .view(-1, 28*28) operation will reshape the tensor into two dimensions:\n",
    "\n",
    "The first dimension will be the total number of images from both stacked_threes and stacked_sevens.\n",
    "The second dimension will be 28*28, which is the flattened image size.\n",
    "\n",
    "**Remember that each row is a different flattened image**\n",
    "\n",
    "If it's a bit hard to grasp, imagine if you had to add in another tensor of stacked_eights. It would still be appropriate to use .view(-1, 28*28) because the -1 would merge all these together into one."
   ]
  },
  {
   "cell_type": "markdown",
   "id": "f1a5ef3c-9d2b-4d58-83bc-be7c6d5996ad",
   "metadata": {},
   "source": [
    "Just a quick recap.\n",
    "\n",
    "PS ----\n",
    "\n",
    "Rank 3 Tensor - Multidimensional Matrix -> list of matrices\n",
    "Rank 2 Tensor - Matrix -> list of vectors\n",
    "Rank 1 Tensor - Vector -> list of scalars\n",
    "Rank 0 Tensor - Scalar -> an individual number\n",
    "\n",
    "Tensors are hierarchical in both ascending and descending order. "
   ]
  },
  {
   "cell_type": "code",
   "execution_count": 80,
   "id": "ce4c19a3-5a6d-44f2-b038-d4839cc5af5d",
   "metadata": {},
   "outputs": [],
   "source": [
    "train_y = tensor([1]*len(threes) + [0]*len(sevens)).unsqueeze(1)"
   ]
  },
  {
   "cell_type": "code",
   "execution_count": 81,
   "id": "9fa94e11-25bf-459f-a585-b2a6c78b0f2d",
   "metadata": {},
   "outputs": [
    {
     "data": {
      "text/plain": [
       "tensor([1])"
      ]
     },
     "execution_count": 81,
     "metadata": {},
     "output_type": "execute_result"
    }
   ],
   "source": [
    "train_y[2]"
   ]
  },
  {
   "cell_type": "markdown",
   "id": "1f5c3db4-74ad-4795-85f6-289cd305fb55",
   "metadata": {},
   "source": [
    "The reason we need train_y is because we need to label our images. So train_y is simply labelling our images that we use from train_x. We need to make this into a tensor as well so we combine the threes and sevens into one rank-1 tensor or a list of vectors. We add in an unsqueeze(1) in order to make train_y into a rank-2 tensor. \n",
    "\n",
    "So unsqueeze() basically adds another dimension to a tensor. Notice how we don't use the stacked_threes and just instead use the threes. This is because we just want to label each image. We don't need to go deep as to the individual pixel values because that's all inside train_x. \n",
    "\n",
    "**Now while that's just good convention, we can still technically use stacked_threes as that still has the exact number of images that we want to label.**\n",
    "\n",
    "It's fair to say that train_x is the data while train_y is the labels for the data."
   ]
  },
  {
   "cell_type": "code",
   "execution_count": 82,
   "id": "da1d598d-eb0f-4c33-8ad3-59f21df42f2e",
   "metadata": {
    "scrolled": true
   },
   "outputs": [
    {
     "data": {
      "text/plain": [
       "(torch.Size([784]), torch.Size([1]))"
      ]
     },
     "execution_count": 82,
     "metadata": {},
     "output_type": "execute_result"
    }
   ],
   "source": [
    "dset = list(zip(train_x, train_y))\n",
    "x,y = dset[0]\n",
    "x.shape, y.shape"
   ]
  },
  {
   "cell_type": "markdown",
   "id": "b2f2879d-b87e-4773-a64c-b91e32c800a8",
   "metadata": {
    "scrolled": true
   },
   "source": [
    "so a \"DataSet\" requires a list that has elements of tuples of (x,y) --> search tuples if need more info **BUT basically tuples use ()**. So basically we make a tuple and put this into a list for the dataset. Basically dataset is now a list of tuples wherein the tuple compromises train_x and train_y."
   ]
  },
  {
   "cell_type": "code",
   "execution_count": 83,
   "id": "02181fc3-f89d-4a74-bf18-825fa518ed76",
   "metadata": {},
   "outputs": [
    {
     "data": {
      "text/plain": [
       "(tensor([0.0000, 0.0000, 0.0000, 0.0000, 0.0000, 0.0000, 0.0000, 0.0000, 0.0000, 0.0000, 0.0000, 0.0000, 0.0000, 0.0000, 0.0000, 0.0000, 0.0000, 0.0000, 0.0000, 0.0000, 0.0000, 0.0000, 0.0000, 0.0000,\n",
       "         0.0000, 0.0000, 0.0000, 0.0000, 0.0000, 0.0000, 0.0000, 0.0000, 0.0000, 0.0000, 0.0000, 0.0000, 0.0000, 0.0000, 0.0000, 0.0000, 0.0000, 0.0000, 0.0000, 0.0000, 0.0000, 0.0000, 0.0000, 0.0000,\n",
       "         0.0000, 0.0000, 0.0000, 0.0000, 0.0000, 0.0000, 0.0000, 0.0000, 0.0000, 0.0000, 0.0000, 0.0000, 0.0000, 0.0000, 0.0000, 0.0000, 0.0000, 0.0000, 0.0000, 0.0000, 0.0000, 0.0000, 0.0000, 0.0000,\n",
       "         0.0000, 0.0000, 0.0000, 0.0000, 0.0000, 0.0000, 0.0000, 0.0000, 0.0000, 0.0000, 0.0000, 0.0000, 0.0000, 0.0000, 0.0000, 0.0000, 0.0000, 0.0000, 0.0000, 0.0000, 0.0000, 0.0000, 0.0000, 0.0000,\n",
       "         0.0000, 0.0000, 0.0000, 0.0000, 0.0000, 0.0000, 0.0000, 0.0000, 0.0000, 0.0000, 0.0000, 0.0000, 0.0000, 0.0000, 0.0000, 0.0000, 0.0000, 0.0000, 0.0000, 0.0000, 0.0000, 0.0000, 0.0000, 0.0000,\n",
       "         0.0000, 0.0000, 0.0000, 0.1647, 0.4627, 0.8588, 0.6510, 0.4627, 0.4627, 0.0235, 0.0000, 0.0000, 0.0000, 0.0000, 0.0000, 0.0000, 0.0000, 0.0000, 0.0000, 0.0000, 0.0000, 0.0000, 0.0000, 0.0000,\n",
       "         0.0000, 0.0000, 0.0000, 0.0000, 0.0000, 0.0000, 0.4039, 0.9490, 0.9961, 0.9961, 0.9961, 0.9961, 0.9961, 0.2588, 0.0000, 0.0000, 0.0000, 0.0000, 0.0000, 0.0000, 0.0000, 0.0000, 0.0000, 0.0000,\n",
       "         0.0000, 0.0000, 0.0000, 0.0000, 0.0000, 0.0000, 0.0000, 0.0000, 0.0000, 0.0000, 0.0706, 0.9098, 0.9961, 0.9961, 0.9961, 0.9961, 0.9961, 0.9333, 0.2745, 0.0000, 0.0000, 0.0000, 0.0000, 0.0000,\n",
       "         0.0000, 0.0000, 0.0000, 0.0000, 0.0000, 0.0000, 0.0000, 0.0000, 0.0000, 0.0000, 0.0000, 0.0000, 0.0000, 0.0000, 0.0000, 0.4078, 0.9569, 0.9961, 0.8784, 0.9961, 0.9961, 0.9961, 0.5529, 0.0000,\n",
       "         0.0000, 0.0000, 0.0000, 0.0000, 0.0000, 0.0000, 0.0000, 0.0000, 0.0000, 0.0000, 0.0000, 0.0000, 0.0000, 0.0000, 0.0000, 0.0000, 0.0000, 0.0000, 0.0000, 0.0000, 0.8118, 0.9961, 0.8235, 0.9961,\n",
       "         0.9961, 0.9961, 0.1333, 0.0000, 0.0000, 0.0000, 0.0000, 0.0000, 0.0000, 0.0000, 0.0000, 0.0000, 0.0000, 0.0000, 0.0000, 0.0000, 0.0000, 0.0000, 0.0000, 0.0000, 0.0000, 0.0000, 0.0000, 0.0000,\n",
       "         0.3294, 0.8078, 0.9961, 0.9961, 0.9961, 0.9961, 0.1608, 0.0000, 0.0000, 0.0000, 0.0000, 0.0000, 0.0000, 0.0000, 0.0000, 0.0000, 0.0000, 0.0000, 0.0000, 0.0000, 0.0000, 0.0000, 0.0000, 0.0000,\n",
       "         0.0000, 0.0000, 0.0000, 0.0000, 0.0000, 0.0941, 0.8196, 0.9961, 0.9961, 0.9961, 0.6706, 0.0000, 0.0000, 0.0000, 0.0000, 0.0000, 0.0000, 0.0000, 0.0000, 0.0000, 0.0000, 0.0000, 0.0000, 0.0000,\n",
       "         0.0000, 0.0000, 0.0000, 0.0000, 0.0000, 0.0000, 0.0000, 0.0000, 0.3569, 0.5373, 0.9922, 0.9961, 0.9961, 0.9961, 0.4392, 0.0000, 0.0000, 0.0000, 0.0000, 0.0000, 0.0000, 0.0000, 0.0000, 0.0000,\n",
       "         0.0000, 0.0000, 0.0000, 0.0000, 0.0000, 0.0000, 0.0000, 0.0000, 0.0000, 0.0000, 0.1569, 0.8392, 0.9804, 0.9961, 0.9961, 0.9961, 0.9961, 0.9961, 0.1333, 0.0000, 0.0000, 0.0000, 0.0000, 0.0000,\n",
       "         0.0000, 0.0000, 0.0000, 0.0000, 0.0000, 0.0000, 0.0000, 0.0000, 0.0000, 0.0000, 0.0000, 0.0000, 0.0000, 0.0000, 0.3176, 0.9686, 0.9961, 0.9961, 0.9961, 0.9961, 0.9961, 0.9961, 0.5725, 0.0000,\n",
       "         0.0000, 0.0000, 0.0000, 0.0000, 0.0000, 0.0000, 0.0000, 0.0000, 0.0000, 0.0000, 0.0000, 0.0000, 0.0000, 0.0000, 0.0000, 0.0000, 0.0000, 0.0000, 0.0000, 0.4314, 0.9647, 0.9961, 0.9961, 0.9961,\n",
       "         0.9961, 0.9961, 0.6706, 0.0000, 0.0000, 0.0000, 0.0000, 0.0000, 0.0000, 0.0000, 0.0000, 0.0000, 0.0000, 0.0000, 0.0000, 0.0000, 0.0000, 0.0000, 0.0000, 0.0000, 0.0000, 0.0000, 0.0000, 0.0000,\n",
       "         0.2863, 0.3490, 0.3490, 0.3647, 0.9412, 0.9961, 0.6706, 0.0000, 0.0000, 0.0000, 0.0000, 0.0000, 0.0000, 0.0000, 0.0000, 0.0000, 0.0000, 0.0000, 0.0000, 0.0000, 0.0000, 0.0000, 0.0000, 0.0000,\n",
       "         0.0000, 0.0000, 0.0000, 0.0000, 0.0000, 0.0000, 0.0000, 0.0039, 0.5020, 0.9961, 0.8588, 0.1216, 0.0000, 0.0000, 0.0000, 0.0000, 0.0000, 0.0000, 0.0000, 0.0000, 0.0000, 0.0000, 0.0000, 0.0000,\n",
       "         0.0000, 0.0000, 0.0000, 0.0000, 0.0000, 0.0000, 0.0000, 0.0000, 0.0000, 0.0000, 0.0000, 0.0275, 0.9961, 0.9961, 0.8392, 0.1098, 0.0000, 0.0000, 0.0000, 0.0000, 0.0000, 0.0000, 0.0000, 0.0000,\n",
       "         0.0000, 0.0000, 0.0000, 0.0000, 0.0000, 0.0000, 0.0000, 0.0000, 0.0000, 0.0000, 0.0000, 0.0000, 0.0000, 0.0000, 0.0000, 0.5412, 0.9961, 0.9961, 0.4549, 0.0000, 0.0000, 0.0000, 0.0000, 0.0000,\n",
       "         0.0000, 0.0000, 0.0000, 0.0000, 0.0000, 0.0000, 0.0000, 0.0000, 0.0000, 0.0000, 0.0745, 0.6941, 0.3529, 0.0000, 0.0000, 0.0000, 0.0000, 0.0000, 0.0980, 0.9412, 0.9961, 0.9961, 0.1333, 0.0000,\n",
       "         0.0000, 0.0000, 0.0000, 0.0000, 0.0000, 0.0000, 0.0000, 0.0000, 0.0000, 0.0000, 0.0000, 0.0000, 0.0000, 0.0000, 0.6431, 0.9961, 0.8431, 0.2471, 0.1412, 0.0000, 0.2000, 0.3490, 0.8078, 0.9961,\n",
       "         0.9961, 0.5451, 0.0314, 0.0000, 0.0000, 0.0000, 0.0000, 0.0000, 0.0000, 0.0000, 0.0000, 0.0000, 0.0000, 0.0000, 0.0000, 0.0000, 0.0000, 0.0000, 0.2235, 0.7725, 0.9961, 0.9961, 0.8706, 0.7059,\n",
       "         0.9451, 0.9961, 0.9961, 0.9922, 0.8353, 0.0431, 0.0000, 0.0000, 0.0000, 0.0000, 0.0000, 0.0000, 0.0000, 0.0000, 0.0000, 0.0000, 0.0000, 0.0000, 0.0000, 0.0000, 0.0000, 0.0000, 0.0000, 0.5490,\n",
       "         0.4118, 0.9961, 0.9961, 0.9961, 0.9961, 0.9961, 0.9961, 0.9255, 0.0000, 0.0000, 0.0000, 0.0000, 0.0000, 0.0000, 0.0000, 0.0000, 0.0000, 0.0000, 0.0000, 0.0000, 0.0000, 0.0000, 0.0000, 0.0000,\n",
       "         0.0000, 0.0000, 0.0000, 0.0000, 0.0275, 0.4588, 0.4588, 0.6471, 0.9961, 0.9961, 0.9373, 0.1961, 0.0000, 0.0000, 0.0000, 0.0000, 0.0000, 0.0000, 0.0000, 0.0000, 0.0000, 0.0000, 0.0000, 0.0000,\n",
       "         0.0000, 0.0000, 0.0000, 0.0000, 0.0000, 0.0000, 0.0000, 0.0000, 0.0000, 0.0000, 0.0000, 0.0000, 0.0000, 0.0000, 0.0000, 0.0000, 0.0000, 0.0000, 0.0000, 0.0000, 0.0000, 0.0000, 0.0000, 0.0000,\n",
       "         0.0000, 0.0000, 0.0000, 0.0000, 0.0000, 0.0000, 0.0000, 0.0000, 0.0000, 0.0000, 0.0000, 0.0000, 0.0000, 0.0000, 0.0000, 0.0000, 0.0000, 0.0000, 0.0000, 0.0000, 0.0000, 0.0000, 0.0000, 0.0000,\n",
       "         0.0000, 0.0000, 0.0000, 0.0000, 0.0000, 0.0000, 0.0000, 0.0000, 0.0000, 0.0000, 0.0000, 0.0000, 0.0000, 0.0000, 0.0000, 0.0000, 0.0000, 0.0000, 0.0000, 0.0000, 0.0000, 0.0000, 0.0000, 0.0000,\n",
       "         0.0000, 0.0000, 0.0000, 0.0000, 0.0000, 0.0000, 0.0000, 0.0000, 0.0000, 0.0000, 0.0000, 0.0000, 0.0000, 0.0000, 0.0000, 0.0000, 0.0000, 0.0000, 0.0000, 0.0000, 0.0000, 0.0000, 0.0000, 0.0000,\n",
       "         0.0000, 0.0000, 0.0000, 0.0000, 0.0000, 0.0000, 0.0000, 0.0000, 0.0000, 0.0000, 0.0000, 0.0000, 0.0000, 0.0000, 0.0000, 0.0000]),\n",
       " tensor([1]))"
      ]
     },
     "execution_count": 83,
     "metadata": {},
     "output_type": "execute_result"
    }
   ],
   "source": [
    "dset[0]"
   ]
  },
  {
   "cell_type": "markdown",
   "id": "f0f7e4c3-a12e-4255-8c17-d6a85aa43908",
   "metadata": {},
   "source": [
    "Since we've made this into a list. If you try to access a specific part such as [1] from the dataset. Wherein x is assigned to the first tuple's element which is train_x, and y is assigned to the label then you can see the corresponding data. So if we do x,y = dset[1]. We are specifying the second element where the x is the pixel values (rows + columns) and y is the image label whether or not it is a 3(1) or 7(0).\n",
    "\n",
    "It can be a bit hard to look through the entire data above but just notice at the end there is a tensor([1]). That's the train_y since it's a tuple of two elements. If we look before at train_x near the end then you can notice that there is no something akin to that. "
   ]
  },
  {
   "cell_type": "code",
   "execution_count": 84,
   "id": "741047b3-96ee-4e1e-86b7-c0bd0f8e4b08",
   "metadata": {},
   "outputs": [],
   "source": [
    "valid_x = torch.cat([valid3_tens, valid7_tens]).view(-1, 28*28)\n",
    "valid_y = tensor([1]*len(valid3_tens) + [0]*len(valid7_tens)).unsqueeze(1)\n",
    "validDset = list(zip(valid_x, valid_y))"
   ]
  },
  {
   "cell_type": "markdown",
   "id": "041507b6-c2b4-429b-976a-757baf8a8cc2",
   "metadata": {},
   "source": [
    "We do the same thing for our validation set but notice that we used the valid3_tens which is the same as our stacked_threes. This is because we didn't have anything similiar to threes for the validation set but we can make something akin to that. This is just to show that we can also use a tensor as long as it has the same amount of images we need for labels as well. Keep in mind that maintaining clear and consistent data structures is crucial for model training and evaluation."
   ]
  },
  {
   "cell_type": "code",
   "execution_count": 85,
   "id": "a88f2afa-7456-45da-97e5-3a27cf87a362",
   "metadata": {},
   "outputs": [],
   "source": [
    "def init_params(size, std=1.0): return (torch.randn(size)*std).requires_grad_()"
   ]
  },
  {
   "cell_type": "markdown",
   "id": "fc1cadb2-94b4-451b-bc63-a4dd5c2a333c",
   "metadata": {},
   "source": [
    "Here we're just doing the exact same thing as we did before. Nothing big. Looks a bit intimidating but take time to get through this. You'll see that's there's really nothing new going on here."
   ]
  },
  {
   "cell_type": "code",
   "execution_count": 86,
   "id": "6a745f03-56b6-45e2-bf1d-13f0e9e66aa0",
   "metadata": {},
   "outputs": [],
   "source": [
    "weights = init_params((28*28, 1))"
   ]
  },
  {
   "cell_type": "markdown",
   "id": "1a8c133f-4b88-471e-b377-f50e6db7580f",
   "metadata": {},
   "source": [
    "We're inserting a tuple into init_params that specifies the shape of the tensor that we want to create with randn. Now why is it specifically (28*28, 1)? Because that's the shape of the image that we have. Remember that train_x is a large matrix with each row being different images? We need this to speciifcally be (28*28, 1) because we need to do matrix multiplication with train_x. We can't do this if it's (1, 28*28). \n",
    "\n",
    "Remember that we are assigning random weights to each image's pixel values as their start parameters. Take note that we are **NOT** changing the pixel value's of the image. We are assigning weights! Keyword is assigning."
   ]
  },
  {
   "cell_type": "code",
   "execution_count": 87,
   "id": "53d4436f-3f88-41cb-8063-4f1050e41162",
   "metadata": {},
   "outputs": [],
   "source": [
    "bias = init_params(1) "
   ]
  },
  {
   "cell_type": "markdown",
   "id": "eaa596a7-8a43-4ded-a0e8-187e8bf65811",
   "metadata": {},
   "source": [
    "We need to include a bias because there are some pixel values that are zero and if we multiply that by zero then the outcome is still the same. Bias is just one single number in a 1D Tensor. "
   ]
  },
  {
   "cell_type": "markdown",
   "id": "bfdb48f1-ee05-4771-b57f-635afc63d6a0",
   "metadata": {},
   "source": [
    "The model that we choose is a linear model. Specifically, a line which is basically --| y=w*x+b |-- The 'w' stands for weights. The 'b' stands for bias. "
   ]
  },
  {
   "cell_type": "code",
   "execution_count": 88,
   "id": "4bfb8d65-9802-4528-a53d-ae857ac6c86b",
   "metadata": {},
   "outputs": [
    {
     "data": {
      "text/plain": [
       "tensor([20.2336], grad_fn=<AddBackward0>)"
      ]
     },
     "execution_count": 88,
     "metadata": {},
     "output_type": "execute_result"
    }
   ],
   "source": [
    "(train_x[0] * weights.T).sum() + bias"
   ]
  },
  {
   "cell_type": "markdown",
   "id": "125c5e19-47c9-4d9b-a3d9-ae38c8c50014",
   "metadata": {},
   "source": [
    "**NOTE!** For some reason there is a need to transpose here? Wherein fact it shouldn't be needed. However, without transposing the weights, the outputs are very high. Proof that there is no need for weights to be transposed is for the code below on linear1. "
   ]
  },
  {
   "cell_type": "code",
   "execution_count": 89,
   "id": "85eaec4a-2299-4184-a5bb-69d7b797f127",
   "metadata": {
    "scrolled": true
   },
   "outputs": [
    {
     "data": {
      "text/plain": [
       "tensor([[20.2336],\n",
       "        [17.0644],\n",
       "        [15.2384],\n",
       "        ...,\n",
       "        [18.3804],\n",
       "        [23.8567],\n",
       "        [28.6816]], grad_fn=<AddBackward0>)"
      ]
     },
     "execution_count": 89,
     "metadata": {},
     "output_type": "execute_result"
    }
   ],
   "source": [
    "def linear1(xb): return xb@weights + bias\n",
    "preds = linear1(train_x)\n",
    "preds"
   ]
  },
  {
   "cell_type": "code",
   "execution_count": 90,
   "id": "18262444-3775-4f14-a197-c5e329075714",
   "metadata": {},
   "outputs": [
    {
     "data": {
      "text/plain": [
       "torch.Size([12396, 784])"
      ]
     },
     "execution_count": 90,
     "metadata": {},
     "output_type": "execute_result"
    }
   ],
   "source": [
    "train_x.shape"
   ]
  },
  {
   "cell_type": "markdown",
   "id": "35861d90-23bb-4320-bf6a-1cfdf439d705",
   "metadata": {},
   "source": [
    "**REMEMBER!** When doing matrix multiplication -> it is important to remember that we flattened the image. Train_x has 12396 rows of images and 784 columns of pixel data for each individual image. So each row is an image and each column is the pixel data of that image in that row.\n",
    "\n",
    "The reason we specified weights to have 728 rows and only one column is because ---\n",
    "\n",
    "see: http://matrixmultiplication.xyz/ for better explanation & visualization.\n",
    "\n",
    "Notice how the weights 'changes orientation' when conductiong matrix multiplication? That's what we need."
   ]
  },
  {
   "cell_type": "code",
   "execution_count": 99,
   "id": "7c32e3b7-e9fa-4d03-b8e7-f696cb0624c9",
   "metadata": {},
   "outputs": [
    {
     "data": {
      "text/plain": [
       "tensor([[ True],\n",
       "        [ True],\n",
       "        [ True],\n",
       "        ...,\n",
       "        [False],\n",
       "        [False],\n",
       "        [False]])"
      ]
     },
     "execution_count": 99,
     "metadata": {},
     "output_type": "execute_result"
    }
   ],
   "source": [
    "corrects = (preds > 0.0).float() == train_y\n",
    "corrects"
   ]
  },
  {
   "cell_type": "markdown",
   "id": "d6787c90-968d-451e-918e-6dce3c821b8b",
   "metadata": {},
   "source": [
    "Here we check how many of our predictions are on the mark by comparing them to the labels in train_y. \n",
    "\n",
    "**We are now checking for accuracy**. \n",
    "\n",
    "We are basically first translating the preds from numbers into a boolean depending on the results if it is greater than 0.0. Afterwards, we convert these booleans into floats which makes these into 1 or 0. Lastly, we compare this to the actual labels train_y and compare them. \n",
    "\n",
    "The final results would be whether or not the prediction is correct. So for example the last three values on preds are 18, 23, and 28. These were converted into 1's because they are greater than 0.0. Lastly, they were compared to train_y if they are equal. Turns out, they're not so that's why they came out as false. Because they did not match."
   ]
  },
  {
   "cell_type": "code",
   "execution_count": 106,
   "id": "350a6001-d7fa-45aa-b106-a8ccefe51aee",
   "metadata": {},
   "outputs": [
    {
     "data": {
      "text/plain": [
       "0.4912068545818329"
      ]
     },
     "execution_count": 106,
     "metadata": {},
     "output_type": "execute_result"
    }
   ],
   "source": [
    "corrects.float().mean().item()"
   ]
  },
  {
   "cell_type": "markdown",
   "id": "6802f8c8-35e3-428c-bec9-85cf9cd98125",
   "metadata": {},
   "source": [
    "Here we are again, converting all the booleans from the corrects into floats. Which means all these will now be either 1 or 0. We calculate the mean in order to get the accuracy. \n",
    "\n",
    ".Item() is a function that translates a scalar or a rank-0 tensor into a python float or int. Not necessarily needed but it's just a better way to visualize things as it is no longer a tensor."
   ]
  },
  {
   "cell_type": "code",
   "execution_count": 108,
   "id": "eb75b217-3e57-4126-b76d-6339a1e25526",
   "metadata": {},
   "outputs": [],
   "source": [
    "with torch.no_grad(): weights[0] *= 1.0001"
   ]
  },
  {
   "cell_type": "markdown",
   "id": "df93b219-9cc9-44b3-bc01-59a45c3f9009",
   "metadata": {},
   "source": [
    "Now that we've got our accuracy, let's take a look what would happen if we changed one of the many weights. What would happen to the accuracy result then?"
   ]
  },
  {
   "cell_type": "code",
   "execution_count": 109,
   "id": "165ccb5e-eacc-42e0-a7f6-7c6bddb99976",
   "metadata": {},
   "outputs": [
    {
     "data": {
      "text/plain": [
       "0.4912068545818329"
      ]
     },
     "execution_count": 109,
     "metadata": {},
     "output_type": "execute_result"
    }
   ],
   "source": [
    "preds = linear1(train_x)\n",
    "((preds>0.0).float() == train_y).float().mean().item()"
   ]
  },
  {
   "cell_type": "markdown",
   "id": "3894ecdd-7672-48bd-ba30-6b45af8a593b",
   "metadata": {},
   "source": [
    "Nothing changed! This is because a single change in the weights isn't enough to do anything at all."
   ]
  },
  {
   "cell_type": "markdown",
   "id": "d0359f83-66ef-4ea4-85e3-41561aabd92a",
   "metadata": {},
   "source": [
    "We need a gradient to change the weights in order to actually learn. However, we can't use accuracy because accuracy has problems in of its own. Firstly, it doesn't account for small changes in the weights. Or to put it more simply, it only detects a change if a 3 becomes a 7 and vice versa. Additionally, accuracy doesn't have any 'confidence' measures. \n",
    "\n",
    "You would notice that supposedly, there are confidence metrics involved. A model can have a correct prediction while having low confidence and it could also have a high confidence on a wrong prediction. That's not the case for accuracy as it is only one or the other."
   ]
  },
  {
   "cell_type": "markdown",
   "id": "080a6509-0af7-45a4-8800-e70b88e57b46",
   "metadata": {},
   "source": [
    "The loss function should not receive the images themselves but the predictions of the model instead. "
   ]
  },
  {
   "cell_type": "code",
   "execution_count": 117,
   "id": "b53dafaf-80ee-4515-8a87-b63ec78d22af",
   "metadata": {},
   "outputs": [],
   "source": [
    "targets = tensor([1,0,1])\n",
    "predictions = tensor([0.9,0.4,0.2])"
   ]
  },
  {
   "cell_type": "markdown",
   "id": "cbd9f15f-30e5-42fe-ba6a-5e355920d993",
   "metadata": {},
   "source": [
    "Now suppose in our targets, we had three elements. 1 resembling a 3 while 7 resembling a 0. We have corresponding predictions from our model in the predictions variable. For the first element, our model predicted that it is a a 3 with high confidence. The second, it predicted that it is a 7 with fair confidence. The last element? It didn't predict it correctly due to it's very low confidence at 0.2. "
   ]
  },
  {
   "cell_type": "markdown",
   "id": "82e4b7e1-775c-40e6-99dd-3c217f51d0d2",
   "metadata": {},
   "source": [
    "Now let's use a loss function that calculates the distance."
   ]
  },
  {
   "cell_type": "code",
   "execution_count": 111,
   "id": "1d211736-e43a-4336-b2d9-f92bc75fd1f2",
   "metadata": {},
   "outputs": [],
   "source": [
    "def mnist_loss(predictions, targets):\n",
    "    return torch.where(targets==1, 1-predictions, predictions).mean()"
   ]
  },
  {
   "cell_type": "markdown",
   "id": "f6f66f0a-0dea-45d5-9275-27ba63ba99f5",
   "metadata": {},
   "source": [
    "The where function of PyTorch shares similarities with list comprehension. So essentialy it works like (condition, input, other). It iterates through targets as an input and if the element is == 1. If it is equal to 1 then it it would subtract 1 with predictions, else it would retain predictions. Lastly it would calculate the mean of the entire results"
   ]
  },
  {
   "cell_type": "code",
   "execution_count": 120,
   "id": "9536316a-25bd-4068-8426-3a1f44890d23",
   "metadata": {},
   "outputs": [
    {
     "data": {
      "text/plain": [
       "tensor([0.1000, 0.4000, 0.8000])"
      ]
     },
     "execution_count": 120,
     "metadata": {},
     "output_type": "execute_result"
    }
   ],
   "source": [
    "torch.where(targets==1, 1-predictions, predictions)"
   ]
  },
  {
   "cell_type": "markdown",
   "id": "f8cf617b-26a4-47ba-8d43-2c3f0a2f464d",
   "metadata": {},
   "source": [
    "Let's apply it manually to targets. Notice the distance? The first element is very close since it correctly predicted the number with high confidence. But it didn't predict it as 1 so the 0.1 error is very small. It retained the second because the distance of 0.0 to 0.4 is still 0.4. Indicating a 0.4 distance thus a moderatly-sized error. Meanwhile the last element, it showed that the distance is very far at 0.8. This indicates a large error."
   ]
  },
  {
   "cell_type": "markdown",
   "id": "a6f4e30a-d498-4236-a6ee-e9bb8113d3b7",
   "metadata": {},
   "source": [
    "Notice how this function provides lower values when:\n",
    "\n",
    "1. the predictions are accurate \n",
    "2. the accurate predicton's confidence are high\n",
    "3. the inaccurate prediction's confidence is low\n",
    "\n",
    "Basically, a lower value for the loss function == BETTER! \n",
    "\n",
    "We need a scalar for our loss function so we need to calculate the mean. Luckily, our mnist_loss function already does that so let's just use that. "
   ]
  },
  {
   "cell_type": "code",
   "execution_count": 124,
   "id": "96046ffc-e23c-4fbc-8f8d-56ee85470926",
   "metadata": {},
   "outputs": [
    {
     "data": {
      "text/plain": [
       "tensor(0.2333)"
      ]
     },
     "execution_count": 124,
     "metadata": {},
     "output_type": "execute_result"
    }
   ],
   "source": [
    "mnist_loss(tensor([0.9, 0.4, 0.8]), targets)"
   ]
  },
  {
   "cell_type": "markdown",
   "id": "55af4bb0-2faf-455e-a916-c0ef84513447",
   "metadata": {},
   "source": [
    "Let's try making our very bad prediction at the third element into a better one. Let's switch that up to 0.8 instead of 0.2 and we'll notice that the loss function goes down. That's GOOD!"
   ]
  },
  {
   "cell_type": "markdown",
   "id": "5887d113-227f-4041-ac93-613174d34f5f",
   "metadata": {},
   "source": [
    "However, there is one slight issue with our current loss function and it's that it always assumes that our predictions are in-between 1 and 0. That's not actually the case. As we noticed earlier, our predictions are around 18, 28, 20, 15, etc. Not exactly 1 and 0. We need to do something about our predictions so that our loss function can work with them. That's where Sigmoid comes to play."
   ]
  }
 ],
 "metadata": {
  "kernelspec": {
   "display_name": "Python 3 (ipykernel)",
   "language": "python",
   "name": "python3"
  },
  "language_info": {
   "codemirror_mode": {
    "name": "ipython",
    "version": 3
   },
   "file_extension": ".py",
   "mimetype": "text/x-python",
   "name": "python",
   "nbconvert_exporter": "python",
   "pygments_lexer": "ipython3",
   "version": "3.10.11"
  }
 },
 "nbformat": 4,
 "nbformat_minor": 5
}
